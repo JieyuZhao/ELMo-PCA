{
 "cells": [
  {
   "cell_type": "markdown",
   "metadata": {},
   "source": [
    "### THis is used to get PCA for the ELMo embeddings to see if there is any main component lying in the difference between he-related ELMo with she-related ELMo"
   ]
  },
  {
   "cell_type": "code",
   "execution_count": 1,
   "metadata": {},
   "outputs": [],
   "source": [
    "%load_ext autoreload\n",
    "%autoreload 2\n",
    "import utils\n",
    "from scipy import spatial\n",
    "import pandas as pd\n",
    "import numpy as np\n",
    "from tqdm import tqdm\n",
    "import h5py"
   ]
  },
  {
   "cell_type": "code",
   "execution_count": 2,
   "metadata": {},
   "outputs": [],
   "source": [
    "import json"
   ]
  },
  {
   "cell_type": "code",
   "execution_count": 3,
   "metadata": {},
   "outputs": [],
   "source": [
    "train = 'data/anonymized/train.english.jsonlines'"
   ]
  },
  {
   "cell_type": "code",
   "execution_count": 4,
   "metadata": {},
   "outputs": [],
   "source": [
    "he_genders = utils.get_all_genders(train, utils.male_words)\n",
    "she_genders = utils.get_all_genders(train, utils.female_words)"
   ]
  },
  {
   "cell_type": "code",
   "execution_count": 5,
   "metadata": {},
   "outputs": [
    {
     "data": {
      "text/plain": [
       "893"
      ]
     },
     "execution_count": 5,
     "metadata": {},
     "output_type": "execute_result"
    }
   ],
   "source": [
    "len([x for x in she_genders if len(she_genders[x]) > 0])"
   ]
  },
  {
   "cell_type": "code",
   "execution_count": 6,
   "metadata": {},
   "outputs": [
    {
     "data": {
      "text/plain": [
       "defaultdict(list, {2: [4]})"
      ]
     },
     "execution_count": 6,
     "metadata": {},
     "output_type": "execute_result"
    }
   ],
   "source": [
    "he_genders['bc/cctv/00/cctv_0001_3']"
   ]
  },
  {
   "cell_type": "code",
   "execution_count": 7,
   "metadata": {},
   "outputs": [],
   "source": [
    "train_file = 'elmo_caches/elmo_caches/elmo_cache_train.hdf5'\n",
    "train = h5py.File(train_file, 'r')\n",
    "train_swap_file = 'elmo_caches/elmo_caches/elmo_cache_train_swap.hdf5'\n",
    "train_swap = h5py.File(train_swap_file, 'r')"
   ]
  },
  {
   "cell_type": "code",
   "execution_count": 21,
   "metadata": {},
   "outputs": [
    {
     "data": {
      "text/plain": [
       "'wb:eng:00:eng_0017_5'"
      ]
     },
     "execution_count": 21,
     "metadata": {},
     "output_type": "execute_result"
    }
   ],
   "source": [
    "list(train.keys())[-1]"
   ]
  },
  {
   "cell_type": "code",
   "execution_count": 22,
   "metadata": {},
   "outputs": [
    {
     "data": {
      "text/plain": [
       "<HDF5 group \"/wb:eng:00:eng_0017_5\" (39 members)>"
      ]
     },
     "execution_count": 22,
     "metadata": {},
     "output_type": "execute_result"
    }
   ],
   "source": [
    "train['wb:eng:00:eng_0017_5']"
   ]
  },
  {
   "cell_type": "code",
   "execution_count": 8,
   "metadata": {},
   "outputs": [
    {
     "name": "stderr",
     "output_type": "stream",
     "text": [
      "100%|██████████| 2802/2802 [03:11<00:00, 14.64it/s]\n",
      "100%|██████████| 2802/2802 [00:36<00:00, 76.22it/s]\n",
      "100%|██████████| 2802/2802 [01:38<00:00, 28.35it/s]\n",
      "100%|██████████| 2802/2802 [00:26<00:00, 105.18it/s]\n"
     ]
    }
   ],
   "source": [
    "he_elmo_ori = utils.get_gender_elmo(train, he_genders)\n",
    "she_elmo_ori = utils.get_gender_elmo(train, she_genders)\n",
    "she_elmo_swap = utils.get_gender_elmo(train_swap, he_genders)\n",
    "he_elmo_swap = utils.get_gender_elmo(train_swap, she_genders)"
   ]
  },
  {
   "cell_type": "code",
   "execution_count": 11,
   "metadata": {},
   "outputs": [],
   "source": [
    "def get_examples(file = 'train', path = 'conll-2012'):\n",
    "    with open('data/%s/%s.english.jsonlines'%(path, file)) as f:\n",
    "        examples = [json.loads(jsonline) for jsonline in f.readlines()]\n",
    "    return examples"
   ]
  },
  {
   "cell_type": "code",
   "execution_count": 12,
   "metadata": {},
   "outputs": [],
   "source": [
    "from collections import defaultdict"
   ]
  },
  {
   "cell_type": "code",
   "execution_count": 13,
   "metadata": {},
   "outputs": [],
   "source": [
    "def filter_sentences(examples, all_prof, male_words, female_words):\n",
    "    he = []\n",
    "    she = []\n",
    "    for doc in examples:\n",
    "        for sent_id in range(len(doc['sentences'])):\n",
    "            sentence = [x.lower() for x in doc['sentences'][sent_id]]\n",
    "            m_flag = 0\n",
    "            f_flag = 0\n",
    "#             print(doc['sentences'][sent_id])\n",
    "#             if 'he' in sentence or 'him' in sentence or 'his' in sentence or 'she' in sentence or 'her' in sentence:\n",
    "\n",
    "            for job in all_prof:\n",
    "                if job.lower() in sentence:\n",
    "                    for male in male_words:\n",
    "                        if male.lower() in sentence: #there is a male definition words in the sentence\n",
    "#                             if ('he' in sentence or 'him' in sentence or 'his' in sentence) and 'she' not in sentence and 'her' not in sentence:\n",
    "#                             he.append([doc['doc_key'], sent_id, sentence.index(job.lower()), ' '.join(doc['sentences'][sent_id])])\n",
    "                            \n",
    "                            m_flag = 1\n",
    "                            break\n",
    "                    for female in female_words:\n",
    "                        if female.lower() in sentence:\n",
    "#                             elif ('she' in sentence or 'her' in sentence) and 'he' not in sentence and 'him' not in sentence and 'his' not in sentence:\n",
    "#                             she.append([doc['doc_key'], sent_id, sentence.index(job.lower()), ' '.join(doc['sentences'][sent_id])])\n",
    "                            \n",
    "                            f_flag = 1\n",
    "                            break\n",
    "                    if m_flag == 1 and f_flag == 0:\n",
    "                        he.append([doc['doc_key'], sent_id, sentence.index(job.lower()), ' '.join(doc['sentences'][sent_id])])\n",
    "                    if m_flag == 0 and f_flag == 1:\n",
    "                        she.append([doc['doc_key'], sent_id, sentence.index(job.lower()), ' '.join(doc['sentences'][sent_id])])\n",
    "    print(\"%d instances with he; %d with she\"%(len(he), len(she)))\n",
    "    return he,she"
   ]
  },
  {
   "cell_type": "code",
   "execution_count": 14,
   "metadata": {},
   "outputs": [
    {
     "name": "stdout",
     "output_type": "stream",
     "text": [
      "400 instances with he; 83 with she\n",
      "50 instances with he; 6 with she\n"
     ]
    }
   ],
   "source": [
    "he_train, she_train = filter_sentences(get_examples('train'), utils.male_occs+utils.female_occs,\\\n",
    "                                                     utils.male_words, utils.female_words)\n",
    "he_dev, she_dev = filter_sentences(get_examples('dev'), utils.male_occs+utils.female_occs,\\\n",
    "                                                     utils.male_words, utils.female_words)"
   ]
  },
  {
   "cell_type": "code",
   "execution_count": 15,
   "metadata": {},
   "outputs": [],
   "source": [
    "def get_vec(traink, f):\n",
    "    train_vec = []\n",
    "    for key in traink:\n",
    "        ekey = key[0].replace('/', ':')\n",
    "#         fl1 = np.mean(f[ekey][str(key[1])][key[2]], axis = 1)\n",
    "        fl1 = np.array(f[ekey][str(key[1])][key[2]]).flatten()\n",
    "        train_vec.append(fl1)\n",
    "    return train_vec"
   ]
  },
  {
   "cell_type": "code",
   "execution_count": 16,
   "metadata": {},
   "outputs": [],
   "source": [
    "he_elmo_ori = get_vec(he_train, train)\n",
    "she_elmo_ori = get_vec(she_train, train)"
   ]
  },
  {
   "cell_type": "code",
   "execution_count": 17,
   "metadata": {},
   "outputs": [],
   "source": [
    "she_elmo_swap = get_vec(he_train, train_swap)\n",
    "he_elmo_swap = get_vec(she_train, train_swap)"
   ]
  },
  {
   "cell_type": "code",
   "execution_count": 18,
   "metadata": {},
   "outputs": [],
   "source": [
    "dev_file = 'elmo_caches/elmo_caches/elmo_cache_dev.hdf5'\n",
    "dev = h5py.File(dev_file, 'r')\n",
    "dev_swap_file = 'elmo_caches/elmo_caches/elmo_cache_dev_swap.hdf5'\n",
    "dev_swap = h5py.File(dev_swap_file, 'r')\n",
    "he_elmo_ori_dev = get_vec(he_dev, dev)\n",
    "she_elmo_ori_dev = get_vec(she_dev, dev)\n",
    "she_elmo_swap_dev = get_vec(he_dev, dev_swap)\n",
    "he_elmo_swap_dev = get_vec(she_dev, dev_swap)"
   ]
  },
  {
   "cell_type": "code",
   "execution_count": 19,
   "metadata": {},
   "outputs": [
    {
     "name": "stdout",
     "output_type": "stream",
     "text": [
      "83 400\n"
     ]
    }
   ],
   "source": [
    "print(len(he_elmo_swap), len(she_elmo_swap))"
   ]
  },
  {
   "cell_type": "code",
   "execution_count": 20,
   "metadata": {},
   "outputs": [],
   "source": [
    "import numpy as np"
   ]
  },
  {
   "cell_type": "code",
   "execution_count": 21,
   "metadata": {},
   "outputs": [],
   "source": [
    "from sklearn.decomposition import PCA"
   ]
  },
  {
   "cell_type": "code",
   "execution_count": 22,
   "metadata": {},
   "outputs": [],
   "source": [
    "he_elmo = np.array(he_elmo_ori) #he_elmo_ori + \n",
    "she_elmo = np.array(she_elmo_swap) #she_elmo_swap + "
   ]
  },
  {
   "cell_type": "code",
   "execution_count": 23,
   "metadata": {},
   "outputs": [
    {
     "data": {
      "text/plain": [
       "(400, 3072)"
      ]
     },
     "execution_count": 23,
     "metadata": {},
     "output_type": "execute_result"
    }
   ],
   "source": [
    "he_elmo.shape"
   ]
  },
  {
   "cell_type": "code",
   "execution_count": 24,
   "metadata": {},
   "outputs": [],
   "source": [
    "diff_elmo = he_elmo.reshape(-1, 3072) - she_elmo.reshape(-1, 3072)"
   ]
  },
  {
   "cell_type": "code",
   "execution_count": 25,
   "metadata": {},
   "outputs": [
    {
     "data": {
      "text/plain": [
       "(400, 3072)"
      ]
     },
     "execution_count": 25,
     "metadata": {},
     "output_type": "execute_result"
    }
   ],
   "source": [
    "diff_elmo.shape"
   ]
  },
  {
   "cell_type": "code",
   "execution_count": 26,
   "metadata": {},
   "outputs": [
    {
     "data": {
      "text/plain": [
       "PCA(copy=True, iterated_power='auto', n_components=10, random_state=None,\n",
       "  svd_solver='auto', tol=0.0, whiten=False)"
      ]
     },
     "execution_count": 26,
     "metadata": {},
     "output_type": "execute_result"
    }
   ],
   "source": [
    "pca = PCA(n_components=10)\n",
    "pca.fit(diff_elmo)"
   ]
  },
  {
   "cell_type": "code",
   "execution_count": 27,
   "metadata": {},
   "outputs": [
    {
     "name": "stdout",
     "output_type": "stream",
     "text": [
      "[[ 8.5702641e-03 -1.1756741e-02 -2.3149204e-02 ...  1.7315379e-03\n",
      "  -1.3946895e-02 -2.0262994e-02]\n",
      " [-3.9222687e-02  9.7004529e-03 -1.1888623e-02 ... -7.9245381e-03\n",
      "   2.2751901e-03  8.4084272e-03]\n",
      " [ 5.3460943e-03  1.7833155e-02  7.0083119e-02 ...  1.0801100e-03\n",
      "  -6.4731603e-03 -8.7928800e-03]\n",
      " ...\n",
      " [-3.1685445e-04  8.6785406e-03  4.0965392e-03 ... -6.3984604e-05\n",
      "   2.4063686e-02 -1.1676338e-02]\n",
      " [ 1.4010265e-03 -2.8662039e-03  1.4980823e-02 ...  2.8264936e-04\n",
      "  -1.1514841e-02  4.4461256e-03]\n",
      " [ 2.2185899e-03  3.1074332e-03  3.6849700e-02 ...  4.4799942e-04\n",
      "   1.7107269e-02 -2.1650327e-02]]\n"
     ]
    }
   ],
   "source": [
    "print(pca.components_)"
   ]
  },
  {
   "cell_type": "code",
   "execution_count": 28,
   "metadata": {},
   "outputs": [
    {
     "name": "stdout",
     "output_type": "stream",
     "text": [
      "[8.24094    6.8122854  2.6736727  1.0588751  0.588591   0.44575515\n",
      " 0.41949478 0.40299028 0.33438137 0.2887907 ]\n"
     ]
    }
   ],
   "source": [
    "print(pca.explained_variance_)"
   ]
  },
  {
   "cell_type": "code",
   "execution_count": 29,
   "metadata": {},
   "outputs": [
    {
     "data": {
      "text/plain": [
       "array([0.2665421 , 0.22033419, 0.08647633, 0.03424789, 0.01903718,\n",
       "       0.01441735, 0.01356799, 0.01303418, 0.01081511, 0.00934055],\n",
       "      dtype=float32)"
      ]
     },
     "execution_count": 29,
     "metadata": {},
     "output_type": "execute_result"
    }
   ],
   "source": [
    "pca.explained_variance_ratio_"
   ]
  },
  {
   "cell_type": "code",
   "execution_count": 30,
   "metadata": {},
   "outputs": [],
   "source": [
    "import matplotlib.pyplot as plt"
   ]
  },
  {
   "cell_type": "code",
   "execution_count": 31,
   "metadata": {},
   "outputs": [
    {
     "data": {
      "image/png": "[encoded data removed]",
      "text/plain": [
       "<Figure size 432x288 with 1 Axes>"
      ]
     },
     "metadata": {
      "needs_background": "light"
     },
     "output_type": "display_data"
    }
   ],
   "source": [
    "plt.bar(range(len(pca.explained_variance_)), pca.explained_variance_ratio_)\n",
    "plt.xticks(range(0,10,2), fontsize=12)\n",
    "plt.yticks(np.arange(0,0.35, 0.05), fontsize=12)\n",
    "plt.savefig('PCA.pdf')"
   ]
  },
  {
   "cell_type": "code",
   "execution_count": 32,
   "metadata": {},
   "outputs": [],
   "source": [
    "# components = pca.transform(diff_elmo)\n",
    "# fig = plt.figure(figsize = (8,8))\n",
    "# ax = fig.add_subplot(1,1,1) \n",
    "# ax.set_xlabel('Principal Component 1', fontsize = 15)\n",
    "# ax.set_ylabel('Principal Component 2', fontsize = 15)\n",
    "# ax.set_title('2 component PCA', fontsize = 20)\n",
    "# colors = ['g', 'b', 'r']\n",
    "# ax.scatter(components[:,0],\n",
    "#             components[:, 1]\n",
    "#                , c = 'b'\n",
    "#                , s = 50)\n",
    "# ax.grid()"
   ]
  },
  {
   "cell_type": "code",
   "execution_count": 33,
   "metadata": {},
   "outputs": [],
   "source": [
    "eigenvecs = pca.components_\n",
    "eigenvalues = pca.explained_variance_"
   ]
  },
  {
   "cell_type": "code",
   "execution_count": 34,
   "metadata": {},
   "outputs": [
    {
     "data": {
      "text/plain": [
       "(10, 3072)"
      ]
     },
     "execution_count": 34,
     "metadata": {},
     "output_type": "execute_result"
    }
   ],
   "source": [
    "eigenvecs.shape"
   ]
  },
  {
   "cell_type": "code",
   "execution_count": null,
   "metadata": {},
   "outputs": [],
   "source": []
  },
  {
   "cell_type": "code",
   "execution_count": 35,
   "metadata": {},
   "outputs": [],
   "source": [
    "dev_he_elmo = np.array(he_elmo_swap).reshape(-1, 3072)\n",
    "dev_she_elmo = np.array(she_elmo_ori).reshape(-1, 3072)"
   ]
  },
  {
   "cell_type": "code",
   "execution_count": 36,
   "metadata": {},
   "outputs": [],
   "source": [
    "# ncom = 1\n",
    "# diff_vec = np.zeros(eigenvecs.shape[1])\n",
    "# for ind in range(ncom):\n",
    "#     diff_vec += eigenvalues[ind] * eigenvecs[ind] \n",
    "    \n",
    "# dev_he_elmo_af = dev_he_elmo - 1/2 * diff_vec\n",
    "# dev_she_elmo_af = dev_she_elmo + 1/2*diff_vec\n",
    "# simsx = []\n",
    "# for ind in range(dev_he_elmo_af.shape[0]):\n",
    "#     sim = 1 - spatial.distance.cosine(dev_he_elmo_af[ind], dev_she_elmo_af[ind])\n",
    "#     simsx.append(sim) \n",
    "# sim = pd.DataFrame(simsx)\n",
    "# sim.describe()"
   ]
  },
  {
   "cell_type": "code",
   "execution_count": 37,
   "metadata": {},
   "outputs": [],
   "source": [
    "dev_gender = np.average(he_elmo_swap, axis = 0)"
   ]
  },
  {
   "cell_type": "code",
   "execution_count": 56,
   "metadata": {},
   "outputs": [],
   "source": [
    "x = np.average(np.array(he_elmo_swap).reshape(83,-1, 1024), axis = 1) \n",
    "y = np.average(np.array(she_elmo_ori).reshape(83,-1, 1024), axis = 1)"
   ]
  },
  {
   "cell_type": "code",
   "execution_count": 57,
   "metadata": {},
   "outputs": [],
   "source": [
    "dev_gender = x - y"
   ]
  },
  {
   "cell_type": "code",
   "execution_count": 62,
   "metadata": {},
   "outputs": [
    {
     "data": {
      "text/plain": [
       "[1.0,\n",
       " 0.7298371195793152,\n",
       " 0.03335016593337059,\n",
       " 0.8362194895744324,\n",
       " 0.4601539969444275,\n",
       " -0.004503151867538691,\n",
       " 0.48090946674346924,\n",
       " -0.003734349738806486,\n",
       " 0.6213304996490479,\n",
       " -0.01649998314678669,\n",
       " 0.6775102615356445,\n",
       " 0.6631143689155579,\n",
       " 0.3907794952392578,\n",
       " 0.042437344789505005,\n",
       " 0.8303622603416443,\n",
       " 0.6716808676719666,\n",
       " nan,\n",
       " 0.9041508436203003,\n",
       " 0.4975203275680542,\n",
       " 0.4996858835220337,\n",
       " 0.6563803553581238,\n",
       " 0.29692593216896057,\n",
       " nan,\n",
       " 0.3100317716598511,\n",
       " 0.6496907472610474,\n",
       " 0.4724295437335968,\n",
       " 0.0052075255662202835,\n",
       " -0.017462292686104774,\n",
       " 0.631690263748169,\n",
       " -0.011652122251689434,\n",
       " 0.46980854868888855,\n",
       " -0.008242924697697163,\n",
       " 0.5528157353401184,\n",
       " 0.5429109930992126,\n",
       " -0.014651504345238209,\n",
       " 0.7494402527809143,\n",
       " 0.7402806878089905,\n",
       " 0.6906407475471497,\n",
       " 0.780219316482544,\n",
       " -0.018477369099855423,\n",
       " -0.008391724899411201,\n",
       " 0.48146185278892517,\n",
       " 0.39187151193618774,\n",
       " -0.011136399582028389,\n",
       " 0.45354095101356506,\n",
       " -0.003132750978693366,\n",
       " -0.0061707524582743645,\n",
       " 0.33531486988067627,\n",
       " -0.0009721626411192119,\n",
       " -0.011998536065220833,\n",
       " -0.012552399188280106,\n",
       " -0.008213922381401062,\n",
       " -0.007830384187400341,\n",
       " -0.01208599004894495,\n",
       " -0.007493127603083849,\n",
       " 0.5216320753097534,\n",
       " 0.3061923682689667,\n",
       " 0.5342977643013,\n",
       " 0.587518036365509,\n",
       " 0.3433365523815155,\n",
       " -0.0050460901111364365,\n",
       " 0.4426549971103668,\n",
       " 0.011546595953404903,\n",
       " 0.5009331703186035,\n",
       " -0.018224293366074562,\n",
       " -0.016767501831054688,\n",
       " -0.0024835129734128714,\n",
       " 0.17091652750968933,\n",
       " -0.02255687117576599,\n",
       " 0.5714355707168579,\n",
       " 0.2790488004684448,\n",
       " -0.014994767494499683,\n",
       " 0.8149533271789551,\n",
       " 0.9599485993385315,\n",
       " 0.45568448305130005,\n",
       " 0.0006583203212358057,\n",
       " -0.010967222042381763,\n",
       " -0.006322333123534918,\n",
       " 0.5692871809005737,\n",
       " -0.0045343912206590176,\n",
       " -0.3381960690021515,\n",
       " -0.010181013494729996,\n",
       " -0.009688016027212143]"
      ]
     },
     "execution_count": 62,
     "metadata": {},
     "output_type": "execute_result"
    }
   ],
   "source": [
    "[1 - spatial.distance.cosine(dev_gender[0], dev_gender[idx]) for idx in range(len(dev_gender))]"
   ]
  },
  {
   "cell_type": "code",
   "execution_count": null,
   "metadata": {},
   "outputs": [],
   "source": []
  },
  {
   "cell_type": "markdown",
   "metadata": {},
   "source": [
    "### 2. project out the 1st and 2nd dimension"
   ]
  },
  {
   "cell_type": "code",
   "execution_count": 237,
   "metadata": {},
   "outputs": [],
   "source": [
    "pc1 = pca.components_[0]\n",
    "pc2 = pca.components_[1]\n",
    "pc3 = pca.components_[2]"
   ]
  },
  {
   "cell_type": "code",
   "execution_count": 238,
   "metadata": {},
   "outputs": [
    {
     "data": {
      "text/plain": [
       "(3072,)"
      ]
     },
     "execution_count": 238,
     "metadata": {},
     "output_type": "execute_result"
    }
   ],
   "source": [
    "pc1.shape"
   ]
  },
  {
   "cell_type": "code",
   "execution_count": 223,
   "metadata": {},
   "outputs": [],
   "source": [
    "def get_sims(elmo1, elmo2):\n",
    "    simsx = []\n",
    "    for ind in range(elmo1.shape[0]):\n",
    "        sim = 1 - spatial.distance.cosine(elmo1[ind], elmo2[ind])\n",
    "        simsx.append(sim) \n",
    "    sim = pd.DataFrame(simsx)\n",
    "    return sim"
   ]
  },
  {
   "cell_type": "code",
   "execution_count": 224,
   "metadata": {},
   "outputs": [],
   "source": [
    "dev_he_po1 = dev_he_elmo - np.multiply((dev_he_elmo.dot(pc1) / (pc1.dot(pc1))).reshape(-1,1), \n",
    "                                       pc1.reshape(1, -1))\n",
    "dev_she_po1 = dev_she_elmo - np.multiply((dev_she_elmo.dot(pc1) / (pc1.dot(pc1))).reshape(-1,1), \n",
    "                                       pc1.reshape(1, -1))"
   ]
  },
  {
   "cell_type": "code",
   "execution_count": 225,
   "metadata": {},
   "outputs": [
    {
     "data": {
      "text/plain": [
       "array([ 0.00857029, -0.01175674, -0.02314921, ...,  0.00173153,\n",
       "       -0.01394689, -0.02026298], dtype=float32)"
      ]
     },
     "execution_count": 225,
     "metadata": {},
     "output_type": "execute_result"
    }
   ],
   "source": [
    "pc1"
   ]
  },
  {
   "cell_type": "code",
   "execution_count": 226,
   "metadata": {},
   "outputs": [
    {
     "data": {
      "text/html": [
       "<div>\n",
       "<style scoped>\n",
       "    .dataframe tbody tr th:only-of-type {\n",
       "        vertical-align: middle;\n",
       "    }\n",
       "\n",
       "    .dataframe tbody tr th {\n",
       "        vertical-align: top;\n",
       "    }\n",
       "\n",
       "    .dataframe thead th {\n",
       "        text-align: right;\n",
       "    }\n",
       "</style>\n",
       "<table border=\"1\" class=\"dataframe\">\n",
       "  <thead>\n",
       "    <tr style=\"text-align: right;\">\n",
       "      <th></th>\n",
       "      <th>0</th>\n",
       "    </tr>\n",
       "  </thead>\n",
       "  <tbody>\n",
       "    <tr>\n",
       "      <th>count</th>\n",
       "      <td>83.000000</td>\n",
       "    </tr>\n",
       "    <tr>\n",
       "      <th>mean</th>\n",
       "      <td>0.990325</td>\n",
       "    </tr>\n",
       "    <tr>\n",
       "      <th>std</th>\n",
       "      <td>0.010204</td>\n",
       "    </tr>\n",
       "    <tr>\n",
       "      <th>min</th>\n",
       "      <td>0.946624</td>\n",
       "    </tr>\n",
       "    <tr>\n",
       "      <th>25%</th>\n",
       "      <td>0.985752</td>\n",
       "    </tr>\n",
       "    <tr>\n",
       "      <th>50%</th>\n",
       "      <td>0.992591</td>\n",
       "    </tr>\n",
       "    <tr>\n",
       "      <th>75%</th>\n",
       "      <td>0.997549</td>\n",
       "    </tr>\n",
       "    <tr>\n",
       "      <th>max</th>\n",
       "      <td>1.000000</td>\n",
       "    </tr>\n",
       "  </tbody>\n",
       "</table>\n",
       "</div>"
      ],
      "text/plain": [
       "               0\n",
       "count  83.000000\n",
       "mean    0.990325\n",
       "std     0.010204\n",
       "min     0.946624\n",
       "25%     0.985752\n",
       "50%     0.992591\n",
       "75%     0.997549\n",
       "max     1.000000"
      ]
     },
     "execution_count": 226,
     "metadata": {},
     "output_type": "execute_result"
    }
   ],
   "source": [
    "sim = get_sims(dev_he_elmo, dev_she_elmo)\n",
    "sim.describe()"
   ]
  },
  {
   "cell_type": "code",
   "execution_count": 227,
   "metadata": {},
   "outputs": [
    {
     "data": {
      "text/html": [
       "<div>\n",
       "<style scoped>\n",
       "    .dataframe tbody tr th:only-of-type {\n",
       "        vertical-align: middle;\n",
       "    }\n",
       "\n",
       "    .dataframe tbody tr th {\n",
       "        vertical-align: top;\n",
       "    }\n",
       "\n",
       "    .dataframe thead th {\n",
       "        text-align: right;\n",
       "    }\n",
       "</style>\n",
       "<table border=\"1\" class=\"dataframe\">\n",
       "  <thead>\n",
       "    <tr style=\"text-align: right;\">\n",
       "      <th></th>\n",
       "      <th>0</th>\n",
       "    </tr>\n",
       "  </thead>\n",
       "  <tbody>\n",
       "    <tr>\n",
       "      <th>count</th>\n",
       "      <td>83.000000</td>\n",
       "    </tr>\n",
       "    <tr>\n",
       "      <th>mean</th>\n",
       "      <td>0.993707</td>\n",
       "    </tr>\n",
       "    <tr>\n",
       "      <th>std</th>\n",
       "      <td>0.005594</td>\n",
       "    </tr>\n",
       "    <tr>\n",
       "      <th>min</th>\n",
       "      <td>0.978273</td>\n",
       "    </tr>\n",
       "    <tr>\n",
       "      <th>25%</th>\n",
       "      <td>0.991319</td>\n",
       "    </tr>\n",
       "    <tr>\n",
       "      <th>50%</th>\n",
       "      <td>0.995547</td>\n",
       "    </tr>\n",
       "    <tr>\n",
       "      <th>75%</th>\n",
       "      <td>0.997821</td>\n",
       "    </tr>\n",
       "    <tr>\n",
       "      <th>max</th>\n",
       "      <td>1.000000</td>\n",
       "    </tr>\n",
       "  </tbody>\n",
       "</table>\n",
       "</div>"
      ],
      "text/plain": [
       "               0\n",
       "count  83.000000\n",
       "mean    0.993707\n",
       "std     0.005594\n",
       "min     0.978273\n",
       "25%     0.991319\n",
       "50%     0.995547\n",
       "75%     0.997821\n",
       "max     1.000000"
      ]
     },
     "execution_count": 227,
     "metadata": {},
     "output_type": "execute_result"
    }
   ],
   "source": [
    "sim_po1 = get_sims(dev_he_po1, dev_she_po1)\n",
    "sim_po1.describe()"
   ]
  },
  {
   "cell_type": "code",
   "execution_count": 228,
   "metadata": {},
   "outputs": [
    {
     "data": {
      "text/plain": [
       "array([-0.03922274,  0.00970044, -0.01188857, ..., -0.00792454,\n",
       "        0.00227519,  0.00840843], dtype=float32)"
      ]
     },
     "execution_count": 228,
     "metadata": {},
     "output_type": "execute_result"
    }
   ],
   "source": [
    "pc2"
   ]
  },
  {
   "cell_type": "code",
   "execution_count": 229,
   "metadata": {},
   "outputs": [],
   "source": [
    "dev_he_po2 = dev_he_po1 - np.multiply((dev_he_po1.dot(pc2) / (pc2.dot(pc2))).reshape(-1,1), \n",
    "                                       pc2.reshape(1, -1))\n",
    "dev_she_po2 = dev_she_po1 - np.multiply((dev_she_po1.dot(pc2) / (pc2.dot(pc2))).reshape(-1,1), \n",
    "                                       pc2.reshape(1, -1))"
   ]
  },
  {
   "cell_type": "code",
   "execution_count": 230,
   "metadata": {},
   "outputs": [
    {
     "data": {
      "text/html": [
       "<div>\n",
       "<style scoped>\n",
       "    .dataframe tbody tr th:only-of-type {\n",
       "        vertical-align: middle;\n",
       "    }\n",
       "\n",
       "    .dataframe tbody tr th {\n",
       "        vertical-align: top;\n",
       "    }\n",
       "\n",
       "    .dataframe thead th {\n",
       "        text-align: right;\n",
       "    }\n",
       "</style>\n",
       "<table border=\"1\" class=\"dataframe\">\n",
       "  <thead>\n",
       "    <tr style=\"text-align: right;\">\n",
       "      <th></th>\n",
       "      <th>0</th>\n",
       "    </tr>\n",
       "  </thead>\n",
       "  <tbody>\n",
       "    <tr>\n",
       "      <th>count</th>\n",
       "      <td>83.000000</td>\n",
       "    </tr>\n",
       "    <tr>\n",
       "      <th>mean</th>\n",
       "      <td>0.993936</td>\n",
       "    </tr>\n",
       "    <tr>\n",
       "      <th>std</th>\n",
       "      <td>0.005385</td>\n",
       "    </tr>\n",
       "    <tr>\n",
       "      <th>min</th>\n",
       "      <td>0.978192</td>\n",
       "    </tr>\n",
       "    <tr>\n",
       "      <th>25%</th>\n",
       "      <td>0.991245</td>\n",
       "    </tr>\n",
       "    <tr>\n",
       "      <th>50%</th>\n",
       "      <td>0.995952</td>\n",
       "    </tr>\n",
       "    <tr>\n",
       "      <th>75%</th>\n",
       "      <td>0.997855</td>\n",
       "    </tr>\n",
       "    <tr>\n",
       "      <th>max</th>\n",
       "      <td>1.000000</td>\n",
       "    </tr>\n",
       "  </tbody>\n",
       "</table>\n",
       "</div>"
      ],
      "text/plain": [
       "               0\n",
       "count  83.000000\n",
       "mean    0.993936\n",
       "std     0.005385\n",
       "min     0.978192\n",
       "25%     0.991245\n",
       "50%     0.995952\n",
       "75%     0.997855\n",
       "max     1.000000"
      ]
     },
     "execution_count": 230,
     "metadata": {},
     "output_type": "execute_result"
    }
   ],
   "source": [
    "sim_po2 = get_sims(dev_he_po2, dev_she_po2)\n",
    "sim_po2.describe()"
   ]
  },
  {
   "cell_type": "code",
   "execution_count": null,
   "metadata": {},
   "outputs": [],
   "source": []
  },
  {
   "cell_type": "code",
   "execution_count": 231,
   "metadata": {},
   "outputs": [
    {
     "data": {
      "text/html": [
       "<div>\n",
       "<style scoped>\n",
       "    .dataframe tbody tr th:only-of-type {\n",
       "        vertical-align: middle;\n",
       "    }\n",
       "\n",
       "    .dataframe tbody tr th {\n",
       "        vertical-align: top;\n",
       "    }\n",
       "\n",
       "    .dataframe thead th {\n",
       "        text-align: right;\n",
       "    }\n",
       "</style>\n",
       "<table border=\"1\" class=\"dataframe\">\n",
       "  <thead>\n",
       "    <tr style=\"text-align: right;\">\n",
       "      <th></th>\n",
       "      <th>0</th>\n",
       "    </tr>\n",
       "  </thead>\n",
       "  <tbody>\n",
       "    <tr>\n",
       "      <th>count</th>\n",
       "      <td>83.000000</td>\n",
       "    </tr>\n",
       "    <tr>\n",
       "      <th>mean</th>\n",
       "      <td>0.996320</td>\n",
       "    </tr>\n",
       "    <tr>\n",
       "      <th>std</th>\n",
       "      <td>0.003410</td>\n",
       "    </tr>\n",
       "    <tr>\n",
       "      <th>min</th>\n",
       "      <td>0.985143</td>\n",
       "    </tr>\n",
       "    <tr>\n",
       "      <th>25%</th>\n",
       "      <td>0.994755</td>\n",
       "    </tr>\n",
       "    <tr>\n",
       "      <th>50%</th>\n",
       "      <td>0.997432</td>\n",
       "    </tr>\n",
       "    <tr>\n",
       "      <th>75%</th>\n",
       "      <td>0.998647</td>\n",
       "    </tr>\n",
       "    <tr>\n",
       "      <th>max</th>\n",
       "      <td>1.000000</td>\n",
       "    </tr>\n",
       "  </tbody>\n",
       "</table>\n",
       "</div>"
      ],
      "text/plain": [
       "               0\n",
       "count  83.000000\n",
       "mean    0.996320\n",
       "std     0.003410\n",
       "min     0.985143\n",
       "25%     0.994755\n",
       "50%     0.997432\n",
       "75%     0.998647\n",
       "max     1.000000"
      ]
     },
     "execution_count": 231,
     "metadata": {},
     "output_type": "execute_result"
    }
   ],
   "source": [
    "dev_he_po3 = dev_he_po2 - np.multiply((dev_he_po2.dot(pc3) / (pc3.dot(pc3))).reshape(-1,1), \n",
    "                                       pc3.reshape(1, -1))\n",
    "dev_she_po3 = dev_she_po2 - np.multiply((dev_she_po2.dot(pc3) / (pc3.dot(pc3))).reshape(-1,1), \n",
    "                                       pc3.reshape(1, -1))\n",
    "sim_po3 = get_sims(dev_he_po3, dev_she_po3)\n",
    "sim_po3.describe()"
   ]
  },
  {
   "cell_type": "code",
   "execution_count": 232,
   "metadata": {},
   "outputs": [
    {
     "data": {
      "text/plain": [
       "10.387078"
      ]
     },
     "execution_count": 232,
     "metadata": {},
     "output_type": "execute_result"
    }
   ],
   "source": [
    "np.linalg.norm(dev_he_po3 - dev_she_po3, 2)"
   ]
  },
  {
   "cell_type": "code",
   "execution_count": 233,
   "metadata": {},
   "outputs": [
    {
     "name": "stdout",
     "output_type": "stream",
     "text": [
      "L2 dis without projecting: 34.0194\n",
      "L2 dis after projecting out the 1st PC: 26.0915\n",
      "L2 dis after projecting out the 1st & 2nd PC: 25.3866\n",
      "L2 dis after projecting out the 1st & 2nd & 3rd PC: 10.3871\n"
     ]
    }
   ],
   "source": [
    "print(\"L2 dis without projecting:\", np.linalg.norm(dev_he_elmo - dev_she_elmo, 2))\n",
    "print(\"L2 dis after projecting out the 1st PC:\", np.linalg.norm(dev_he_po1 - dev_she_po1, 2))\n",
    "print(\"L2 dis after projecting out the 1st & 2nd PC:\", np.linalg.norm(dev_he_po2 - dev_she_po2, 2))\n",
    "print(\"L2 dis after projecting out the 1st & 2nd & 3rd PC:\", np.linalg.norm(dev_he_po3 - dev_she_po3, 2))"
   ]
  },
  {
   "cell_type": "code",
   "execution_count": null,
   "metadata": {},
   "outputs": [],
   "source": []
  },
  {
   "cell_type": "code",
   "execution_count": null,
   "metadata": {},
   "outputs": [],
   "source": []
  },
  {
   "cell_type": "markdown",
   "metadata": {},
   "source": [
    "### 3. Visualization some words"
   ]
  },
  {
   "cell_type": "code",
   "execution_count": 239,
   "metadata": {},
   "outputs": [],
   "source": [
    "import json"
   ]
  },
  {
   "cell_type": "code",
   "execution_count": 240,
   "metadata": {},
   "outputs": [],
   "source": [
    "dev = 'data/anonymized/dev.english.jsonlines'"
   ]
  },
  {
   "cell_type": "code",
   "execution_count": 241,
   "metadata": {},
   "outputs": [],
   "source": [
    "he_dev_gender = utils.get_all_genders(dev, utils.male_words)\n",
    "he_dev_words = utils.get_gender_words(dev, utils.male_words)"
   ]
  },
  {
   "cell_type": "code",
   "execution_count": 242,
   "metadata": {},
   "outputs": [
    {
     "data": {
      "text/plain": [
       "['bc/cctv/00/cctv_0000_0', 'bc/cctv/00/cctv_0000_1', 'bc/cctv/00/cctv_0000_2']"
      ]
     },
     "execution_count": 242,
     "metadata": {},
     "output_type": "execute_result"
    }
   ],
   "source": [
    "list(he_dev_words.keys())[:3]"
   ]
  },
  {
   "cell_type": "code",
   "execution_count": 243,
   "metadata": {},
   "outputs": [
    {
     "data": {
      "text/plain": [
       "defaultdict(list, {})"
      ]
     },
     "execution_count": 243,
     "metadata": {},
     "output_type": "execute_result"
    }
   ],
   "source": [
    "he_dev_words['bc/cctv/00/cctv_0000_0']"
   ]
  },
  {
   "cell_type": "code",
   "execution_count": 244,
   "metadata": {},
   "outputs": [
    {
     "data": {
      "text/plain": [
       "defaultdict(list, {})"
      ]
     },
     "execution_count": 244,
     "metadata": {},
     "output_type": "execute_result"
    }
   ],
   "source": [
    "he_dev_gender['bc/cctv/00/cctv_0000_0']"
   ]
  },
  {
   "cell_type": "code",
   "execution_count": 245,
   "metadata": {},
   "outputs": [],
   "source": [
    "dev_T1_file = 'elmo_caches/elmo_cache_dev_T1_pro.hdf5'\n",
    "dev_T1 = h5py.File(dev_T1_file, 'r')\n",
    "dev_T1_file_anti = 'elmo_caches/elmo_cache_dev_T1_anti.hdf5'\n",
    "dev_T1_anti = h5py.File(dev_T1_file_anti, 'r')"
   ]
  },
  {
   "cell_type": "code",
   "execution_count": 56,
   "metadata": {},
   "outputs": [],
   "source": [
    "with open('/home/jyzhao/Github/data/jobs') as f:\n",
    "    all_prof = [x.strip().lower() for x in f.readlines()]"
   ]
  },
  {
   "cell_type": "code",
   "execution_count": 57,
   "metadata": {},
   "outputs": [],
   "source": [
    "male = '/home/jyzhao/Github/data/corefBias/WinoBias/wino/data/male_occupations.txt'\n",
    "female = '/home/jyzhao/Github/data/corefBias/WinoBias/wino/data/female_occupations.txt'\n",
    "male_occs = [x.strip() for x in open(male).readlines()]\n",
    "female_occs = [x.strip() for x in open(female).readlines()]\n",
    "f_m =  female_occs + male_occs \n",
    "m_f = male_occs + female_occs"
   ]
  },
  {
   "cell_type": "code",
   "execution_count": 327,
   "metadata": {},
   "outputs": [
    {
     "name": "stdout",
     "output_type": "stream",
     "text": [
      "175 instances with he; 177 with she\n",
      "177 instances with he; 175 with she\n",
      "175 instances with he; 177 with she\n",
      "177 instances with he; 175 with she\n"
     ]
    }
   ],
   "source": [
    "all_prof = m_f\n",
    "_, she_anti = utils.filter_sentences(utils.get_examples(\n",
    "    'dev_type1_anti_stereotype', 'corefbias'), all_prof)\n",
    "he_pro, _ = utils.filter_sentences(utils.get_examples(\n",
    "    'dev_type1_pro_stereotype', 'corefbias'), all_prof)\n",
    "all_prof = f_m\n",
    "he_anti, _ = utils.filter_sentences(utils.get_examples(\n",
    "    'dev_type1_anti_stereotype', 'corefbias'), all_prof)\n",
    "_, she_pro = utils.filter_sentences(utils.get_examples(\n",
    "    'dev_type1_pro_stereotype', 'corefbias'), all_prof)"
   ]
  },
  {
   "cell_type": "code",
   "execution_count": 329,
   "metadata": {},
   "outputs": [
    {
     "data": {
      "text/plain": [
       "defaultdict(list,\n",
       "            {0: [(4,\n",
       "               'The mechanic greets the receptionist because he was standing in front of the door .')]})"
      ]
     },
     "execution_count": 329,
     "metadata": {},
     "output_type": "execute_result"
    }
   ],
   "source": [
    "he_anti['nw/dev_type1/stereotype//101_0']"
   ]
  },
  {
   "cell_type": "code",
   "execution_count": 322,
   "metadata": {},
   "outputs": [
    {
     "data": {
      "text/plain": [
       "defaultdict(list,\n",
       "            {0: [(1,\n",
       "               'The farmer gave the teacher a bag of eggs because she was grateful .')]})"
      ]
     },
     "execution_count": 322,
     "metadata": {},
     "output_type": "execute_result"
    }
   ],
   "source": [
    "she_anti['nw/dev_type1/stereotype//104_0']"
   ]
  },
  {
   "cell_type": "code",
   "execution_count": 330,
   "metadata": {},
   "outputs": [],
   "source": [
    "def get_word_elmo(elmo_file, filtered):\n",
    "    res = []\n",
    "    elmos = []\n",
    "    for key in filtered.keys(): \n",
    "        elmo_key = key.replace('/', ':')\n",
    "        sen_id = list(filtered[key].keys())[0]\n",
    "        assert sen_id == 0\n",
    "        for wid, sent in filtered[key][sen_id]:\n",
    "            elmo = elmo_file[elmo_key][str(sen_id)][wid]\n",
    "            word = sent.strip().split()[wid]\n",
    "            res.append((word, wid, sent))\n",
    "            elmos.append(elmo)\n",
    "    return res, elmos"
   ]
  },
  {
   "cell_type": "code",
   "execution_count": 319,
   "metadata": {},
   "outputs": [
    {
     "data": {
      "text/plain": [
       "['nw/dev_type1/stereotype//101_0',\n",
       " 'nw/dev_type1/stereotype//102_0',\n",
       " 'nw/dev_type1/stereotype//105_0']"
      ]
     },
     "execution_count": 319,
     "metadata": {},
     "output_type": "execute_result"
    }
   ],
   "source": [
    "list(he_anti.keys())[:3]"
   ]
  },
  {
   "cell_type": "code",
   "execution_count": 331,
   "metadata": {},
   "outputs": [],
   "source": [
    "he_res_anti, he_elmos_anti = get_word_elmo(dev_T1_anti, he_anti)\n",
    "he_res_pro, he_elmos_pro = get_word_elmo(dev_T1, he_pro)\n",
    "she_res_pro, she_elmos_pro = get_word_elmo(dev_T1, she_pro)\n",
    "she_res_anti, she_elmos_anti = get_word_elmo(dev_T1_anti, she_anti)\n",
    "he_res, he_elmos  = get_word_elmo(dev_T1, he_pro)\n",
    "she_res, she_elmos = get_word_elmo(dev_T1_anti, she_anti)"
   ]
  },
  {
   "cell_type": "code",
   "execution_count": 335,
   "metadata": {},
   "outputs": [
    {
     "data": {
      "text/plain": [
       "[('receptionist',\n",
       "  4,\n",
       "  'The mechanic greets the receptionist because she was standing in front of the door .'),\n",
       " ('assistant',\n",
       "  6,\n",
       "  'The cook is always teaching the assistant new techniques so she will one day be equal in skill .'),\n",
       " ('teacher',\n",
       "  4,\n",
       "  'The farmer gave the teacher a bag of eggs because she helped many kids .')]"
      ]
     },
     "execution_count": 335,
     "metadata": {},
     "output_type": "execute_result"
    }
   ],
   "source": [
    "she_res_pro[:3]"
   ]
  },
  {
   "cell_type": "code",
   "execution_count": 274,
   "metadata": {},
   "outputs": [],
   "source": [
    "gendercoref_he = h5py.File('./elmo_caches/elmo_cache_gendercoref_he.hdf5')\n",
    "gendercoref_she = h5py.File('./elmo_caches/elmo_cache_gendercoref_she.hdf5')"
   ]
  },
  {
   "cell_type": "code",
   "execution_count": 275,
   "metadata": {},
   "outputs": [
    {
     "data": {
      "text/plain": [
       "900"
      ]
     },
     "execution_count": 275,
     "metadata": {},
     "output_type": "execute_result"
    }
   ],
   "source": [
    "len(gendercoref_she.keys())"
   ]
  },
  {
   "cell_type": "code",
   "execution_count": 276,
   "metadata": {},
   "outputs": [
    {
     "data": {
      "text/plain": [
       "<HDF5 dataset \"0\": shape (16, 1024, 3), type \"<f4\">"
      ]
     },
     "execution_count": 276,
     "metadata": {},
     "output_type": "execute_result"
    }
   ],
   "source": [
    "gendercoref_she['nw:30_0']['0']"
   ]
  },
  {
   "cell_type": "code",
   "execution_count": 277,
   "metadata": {},
   "outputs": [],
   "source": [
    "#gendercoref-she: the occ is the 1st word and pronoun is 10th\n",
    "#gendercoref-he: the occ is the 4th and pronoun is 10th\n",
    "gendercoref_inds = [0, 31, 62, 124, 155, 217]#, 90, 120, 150, 180, 210]\n",
    "gendercoref_male_words = ['actor',  'prince',  'gentleman','chairman', 'waiter', 'monk']\n",
    "gendercoref_female_words = ['actress', 'princess', 'lady', 'chairwoman', 'waitress', 'nun']\n",
    "gendercoref_male_elmos = []\n",
    "gendercoref_female_elmos = []\n",
    "for ind in gendercoref_inds:\n",
    "    key = 'nw:' + str(ind) + '_0'\n",
    "    he_occ_male_context = gendercoref_he[key]['0'][4] #actor-he\n",
    "#     she_occ_male_context = gendercoref_he[key]['0'][1] #actress-he\n",
    "#     he_occ_female_context = gendercoref_she[key]['0'][4] #actor-she\n",
    "    she_occ_female_context = gendercoref_she[key]['0'][1] #actress-she\n",
    "    gendercoref_male_elmos.append(he_occ_male_context)\n",
    "#     gendercoref_female_elmos.append(he_occ_female_context)\n",
    "#     gendercoref_male_elmos.append(she_occ_male_context)\n",
    "    gendercoref_female_elmos.append(she_occ_female_context) "
   ]
  },
  {
   "cell_type": "code",
   "execution_count": 278,
   "metadata": {},
   "outputs": [
    {
     "data": {
      "text/plain": [
       "6"
      ]
     },
     "execution_count": 278,
     "metadata": {},
     "output_type": "execute_result"
    }
   ],
   "source": [
    "len(gendercoref_male_elmos)"
   ]
  },
  {
   "cell_type": "code",
   "execution_count": 279,
   "metadata": {},
   "outputs": [],
   "source": [
    "rands = range(len(gendercoref_inds))\n",
    "proj_gendercoref_he = []\n",
    "proj_gendercoref_she = []\n",
    "pcs = pca.components_\n",
    "for ind in range(len(gendercoref_female_elmos)):\n",
    "        tmp = []\n",
    "        for i in range(3):\n",
    "            he_emb = gendercoref_male_elmos[ind].reshape(-1, 3072)\n",
    "            pj1 = he_emb.dot(pcs[i])\n",
    "            tmp.append(pj1)\n",
    "        proj_gendercoref_he.append(np.array(tmp))\n",
    "        tmp = []\n",
    "        for i in range(3):\n",
    "            she_emb = gendercoref_female_elmos[ind].reshape(-1, 3072)\n",
    "            pj1 = she_emb.dot(pcs[i])\n",
    "            tmp.append(pj1)\n",
    "        proj_gendercoref_she.append(np.array(tmp))\n",
    "proj_gendercoref_she = np.array(proj_gendercoref_she)\n",
    "proj_gendercoref_he = np.array(proj_gendercoref_he)"
   ]
  },
  {
   "cell_type": "code",
   "execution_count": 280,
   "metadata": {},
   "outputs": [
    {
     "data": {
      "text/plain": [
       "(6, 3, 1)"
      ]
     },
     "execution_count": 280,
     "metadata": {},
     "output_type": "execute_result"
    }
   ],
   "source": [
    "proj_gendercoref_he.shape"
   ]
  },
  {
   "cell_type": "code",
   "execution_count": 281,
   "metadata": {},
   "outputs": [
    {
     "data": {
      "image/png": "[encoded data removed]",
      "text/plain": [
       "<Figure size 432x288 with 1 Axes>"
      ]
     },
     "metadata": {},
     "output_type": "display_data"
    }
   ],
   "source": [
    "pc1 = 1\n",
    "pc2 = 2\n",
    "plt.scatter(proj_gendercoref_he[:,pc1 - 1], proj_gendercoref_he[:,pc2 - 1], color='blue')\n",
    "plt.scatter(proj_gendercoref_she[:,pc1 - 1], proj_gendercoref_she[:,pc2 - 1], color='orange')\n",
    "plt.xlabel('Princle Components %d'%(pc1), fontsize=12)\n",
    "plt.ylabel('Princle Components %d'%(pc2), fontsize=12)\n",
    "for ind in range(6):\n",
    "    plt.annotate(gendercoref_male_words[ind], (proj_gendercoref_he[ind][pc1 - 1]-0.2, proj_gendercoref_he[ind][pc2 - 1]), fontsize=12)\n",
    "for ind in range(6):\n",
    "    plt.annotate(gendercoref_female_words[ind], (proj_gendercoref_she[ind][pc1 - 1]-0.2, proj_gendercoref_she[ind][pc2 - 1]), fontsize=12)"
   ]
  },
  {
   "cell_type": "code",
   "execution_count": null,
   "metadata": {},
   "outputs": [],
   "source": []
  },
  {
   "cell_type": "code",
   "execution_count": null,
   "metadata": {},
   "outputs": [],
   "source": []
  },
  {
   "cell_type": "code",
   "execution_count": 336,
   "metadata": {},
   "outputs": [],
   "source": [
    "he_elmos = np.array(he_elmos_anti + he_elmos_pro)\n",
    "she_elmos = np.array(she_elmos_pro + she_elmos_anti)"
   ]
  },
  {
   "cell_type": "code",
   "execution_count": 283,
   "metadata": {},
   "outputs": [],
   "source": [
    "import random\n",
    "random.seed(101)"
   ]
  },
  {
   "cell_type": "code",
   "execution_count": 285,
   "metadata": {},
   "outputs": [],
   "source": [
    "def get_proj(he_elmos, she_elmos, pcs, n, rands):\n",
    "    pc_she = []\n",
    "    pc_he = []\n",
    "    for ind in rands:\n",
    "        tmp = []\n",
    "        for i in range(n):\n",
    "            he_emb = he_elmos[ind].reshape(-1, 3072)\n",
    "            pj1 = he_emb.dot(pcs[i])\n",
    "            tmp.append(pj1)\n",
    "        pc_he.append(np.array(tmp))\n",
    "        tmp = []\n",
    "        for i in range(n):\n",
    "            she_emb = she_elmos[ind].reshape(-1, 3072)\n",
    "            pj1 = she_emb.dot(pcs[i])\n",
    "            tmp.append(pj1)\n",
    "        pc_she.append(np.array(tmp))\n",
    "    return np.array(pc_she), np.array(pc_he)\n",
    "    "
   ]
  },
  {
   "cell_type": "code",
   "execution_count": 256,
   "metadata": {},
   "outputs": [],
   "source": [
    "male = '/home/jyzhao/Github/data/corefBias/WinoBias/wino/data/male_occupations.txt'\n",
    "female = '/home/jyzhao/Github/data/corefBias/WinoBias/wino/data/female_occupations.txt'\n",
    "male_occs = [x.strip() for x in open(male).readlines()]\n",
    "female_occs = [x.strip() for x in open(female).readlines()]"
   ]
  },
  {
   "cell_type": "code",
   "execution_count": 158,
   "metadata": {},
   "outputs": [],
   "source": [
    "alre = set()\n",
    "occs = []\n",
    "for ind in range(len(she_res)):\n",
    "    if she_res[ind][0] in male_occs+female_occs:\n",
    "        if she_res[ind][0] not in occs:\n",
    "            occs.append(she_res[ind][0])\n",
    "            alre.add(ind)"
   ]
  },
  {
   "cell_type": "code",
   "execution_count": 356,
   "metadata": {},
   "outputs": [],
   "source": [
    "def plot_pcs(pc_he, pc_she, pc1, pc2, he_res):\n",
    "    plt.close('all')\n",
    "    plt.scatter(pc_he[:,pc1 - 1], pc_he[:,pc2 - 1], color='blue')\n",
    "    plt.scatter(pc_she[:,pc1 - 1], pc_she[:,pc2 - 1], color='orange')\n",
    "    plt.xlabel('Princle Components %d'%(pc1), fontsize=12)\n",
    "    plt.ylabel('Princle Components %d'%(pc2), fontsize=12)\n",
    "    for ind in range(len(rands)):\n",
    "        print(he_res_pro[rands[ind]][0])\n",
    "        if ind == 7:  \n",
    "            plt.annotate(he_res[rands[ind]][0], \n",
    "                             (pc_he[ind][pc1 - 1]-0.2, pc_he[ind][pc2 - 1]), fontsize=12)\n",
    "        elif ind == 6:\n",
    "            plt.annotate(he_res[rands[ind]][0], \n",
    "                             (pc_he[ind][pc1 - 1] , pc_he[ind][pc2 - 1]), fontsize=12)\n",
    "        elif ind == 9:\n",
    "            plt.annotate(he_res[rands[ind]][0], \n",
    "                             (pc_he[ind][pc1 - 1]+0.3, pc_he[ind][pc2 - 1]-0.1), fontsize=12)\n",
    "        else:\n",
    "            plt.annotate(he_res[rands[ind]][0], \n",
    "                             (pc_he[ind][pc1 - 1] , pc_he[ind][pc2 - 1]  ), fontsize=12)\n",
    "        if ind in [3]:\n",
    "            plt.annotate(she_res[rands[ind]][0], \n",
    "                             (pc_she[ind][pc1 - 1] , pc_she[ind][pc2 - 1] ), fontsize=12)\n",
    "        elif ind in [7]:\n",
    "            plt.annotate(she_res[rands[ind]][0], \n",
    "                             (pc_she[ind][pc1 - 1]+0.19, pc_she[ind][pc2 - 1]-0.1), fontsize=12)\n",
    "        elif ind in [2]:\n",
    "            plt.annotate(she_res[rands[ind]][0], \n",
    "                             (pc_she[ind][pc1 - 1]-0.29, pc_she[ind][pc2 - 1]-0.2), fontsize=12)\n",
    "        elif ind in [9]:\n",
    "            plt.annotate(she_res[rands[ind]][0], \n",
    "                             (pc_she[ind][pc1 - 1]-0.51, pc_she[ind][pc2 - 1]+0.1), fontsize=12)\n",
    "        else:\n",
    "            plt.annotate(she_res[rands[ind]][0], \n",
    "                             (pc_she[ind][pc1 - 1] , pc_she[ind][pc2 - 1] ), fontsize=12)\n",
    "#         plt.savefig('pc%d%d.pdf'%(pc1, pc2))\n",
    "        print(str(ind) + ': ' + she_res[rands[ind]][2])"
   ]
  },
  {
   "cell_type": "code",
   "execution_count": 546,
   "metadata": {},
   "outputs": [],
   "source": [
    "rands = list(alre)\n",
    "rands = [10, 7, 8, 80, 140]"
   ]
  },
  {
   "cell_type": "code",
   "execution_count": 547,
   "metadata": {},
   "outputs": [
    {
     "name": "stdout",
     "output_type": "stream",
     "text": [
      "10:secretary||\tThe developer corrected the secretary because she made a mistake .\n",
      "10:lawyer||\tThe lawyer looked into illegal accusations against the cashier , because she needed to understand the case .\n",
      "7:nurse||\tThe nurse was running from the laborer because she was very busy .\n",
      "7:chief||\tThe chief encouraged the writer because she likes the book .\n",
      "8:cashier||\tThe lawyer looked into illegal accusations against the cashier , but she may have been falsely accused .\n",
      "8:developer||\tThe developer was unable to communicate with the writer because she only understands the code .\n",
      "80:cleaner||\tThe analyst asked the cleaner to pick up papers because she always forgot .\n",
      "80:driver||\tThe driver transported the counselor to the hospital because she was paid .\n",
      "140:librarian||\tThe chief returned a book to the librarian but she complained of being late .\n",
      "140:physician||\tThe physician hired the secretary because she was overwhelmed with clients .\n"
     ]
    }
   ],
   "source": [
    "for ind in rands:\n",
    "#     print(str(ind) +\":\" + he_res_anti[ind][0] + \"||\\t\" + he_res_anti[ind][2])\n",
    "    print(str(ind) +\":\" + she_res_pro[ind][0] + \"||\\t\" + she_res_pro[ind][2])\n",
    "    \n",
    "    print(str(ind) +\":\" + she_res_anti[ind][0] + \"||\\t\" + she_res_anti[ind][2])\n",
    "#     print(str(ind) +\":\" + she_res_anti[ind][0] + \"||\\t\" + she_res_anti[ind][2])\n",
    "    "
   ]
  },
  {
   "cell_type": "code",
   "execution_count": 548,
   "metadata": {},
   "outputs": [],
   "source": [
    "pc_she_anti, pc_he_pro = get_proj(he_elmos_pro, she_elmos_anti, pca.components_, 3, rands )\n",
    "pc_she_pro, pc_he_anti = get_proj(he_elmos_anti, she_elmos_pro, pca.components_, 3, rands )"
   ]
  },
  {
   "cell_type": "code",
   "execution_count": 549,
   "metadata": {},
   "outputs": [
    {
     "data": {
      "text/plain": [
       "(5, 3, 1)"
      ]
     },
     "execution_count": 549,
     "metadata": {},
     "output_type": "execute_result"
    }
   ],
   "source": [
    "pc_she_anti.shape"
   ]
  },
  {
   "cell_type": "code",
   "execution_count": 550,
   "metadata": {},
   "outputs": [],
   "source": [
    "pc_he = np.concatenate((pc_he_pro, pc_he_anti), axis = 0)\n",
    "pc_she = np.concatenate((pc_she_anti, pc_she_pro), axis = 0)"
   ]
  },
  {
   "cell_type": "code",
   "execution_count": 508,
   "metadata": {},
   "outputs": [],
   "source": [
    "# pc_he = pc_he_pro\n",
    "# pc_she = pc_she_anti"
   ]
  },
  {
   "cell_type": "code",
   "execution_count": 509,
   "metadata": {},
   "outputs": [
    {
     "data": {
      "text/plain": [
       "(6, 3, 1)"
      ]
     },
     "execution_count": 509,
     "metadata": {},
     "output_type": "execute_result"
    }
   ],
   "source": [
    "pc_he.shape"
   ]
  },
  {
   "cell_type": "code",
   "execution_count": 460,
   "metadata": {},
   "outputs": [],
   "source": [
    "gendercoref_tmp = h5py.File('./elmo_cache_gendercoref_tmp.hdf5')"
   ]
  },
  {
   "cell_type": "code",
   "execution_count": 440,
   "metadata": {},
   "outputs": [
    {
     "data": {
      "text/plain": [
       "['nw:0_0', 'nw:100_0', 'nw:1_0', 'nw:2_0', 'nw:3_0', 'nw:4_0']"
      ]
     },
     "execution_count": 440,
     "metadata": {},
     "output_type": "execute_result"
    }
   ],
   "source": [
    "list(gendercoref_tmp.keys())"
   ]
  },
  {
   "cell_type": "code",
   "execution_count": 396,
   "metadata": {},
   "outputs": [
    {
     "data": {
      "text/plain": [
       "<HDF5 dataset \"0\": shape (5, 1024, 3), type \"<f4\">"
      ]
     },
     "execution_count": 396,
     "metadata": {},
     "output_type": "execute_result"
    }
   ],
   "source": [
    "gendercoref_tmp['nw:0_0']['0']"
   ]
  },
  {
   "cell_type": "code",
   "execution_count": 405,
   "metadata": {},
   "outputs": [],
   "source": [
    "gendercoref_female_elmos = []\n",
    "gendercoref_male_elmos = []\n",
    "she_keys = ['nw:0_0', 'nw:1_0', 'nw:3_0']\n",
    "for key in gendercoref_tmp:\n",
    "    if key in she_keys:\n",
    "        gendercoref_female_elmos.append(gendercoref_tmp[key]['0'][3])\n",
    "    else:\n",
    "        gendercoref_male_elmos.append(gendercoref_tmp[key]['0'][3])\n",
    "        \n",
    "proj_gendercoref_he = []\n",
    "proj_gendercoref_she = []\n",
    "pcs = pca.components_\n",
    "for ind in range(len(gendercoref_female_elmos)):\n",
    "        tmp = []\n",
    "        for i in range(3):\n",
    "            he_emb = gendercoref_male_elmos[ind].reshape(-1, 3072)\n",
    "            pj1 = he_emb.dot(pcs[i])\n",
    "            tmp.append(pj1)\n",
    "        proj_gendercoref_he.append(np.array(tmp))\n",
    "        tmp = []\n",
    "        for i in range(3):\n",
    "            she_emb = gendercoref_female_elmos[ind].reshape(-1, 3072)\n",
    "            pj1 = she_emb.dot(pcs[i])\n",
    "            tmp.append(pj1)\n",
    "        proj_gendercoref_she.append(np.array(tmp))\n",
    "proj_gendercoref_she = np.array(proj_gendercoref_she)\n",
    "proj_gendercoref_he = np.array(proj_gendercoref_he)"
   ]
  },
  {
   "cell_type": "code",
   "execution_count": 441,
   "metadata": {},
   "outputs": [
    {
     "name": "stdout",
     "output_type": "stream",
     "text": [
      "3\n"
     ]
    },
    {
     "data": {
      "text/plain": [
       "(3, 3, 1)"
      ]
     },
     "execution_count": 441,
     "metadata": {},
     "output_type": "execute_result"
    }
   ],
   "source": [
    "print(len(gendercoref_female_elmos))\n",
    "proj_gendercoref_he.shape"
   ]
  },
  {
   "cell_type": "code",
   "execution_count": 551,
   "metadata": {},
   "outputs": [],
   "source": [
    "pc_she2plot = np.concatenate((pc_she, proj_gendercoref_she), axis=0)\n",
    "pc_he2plot = np.concatenate((pc_he, proj_gendercoref_he), axis=0)"
   ]
  },
  {
   "cell_type": "code",
   "execution_count": 552,
   "metadata": {},
   "outputs": [
    {
     "data": {
      "text/plain": [
       "(13, 3, 1)"
      ]
     },
     "execution_count": 552,
     "metadata": {},
     "output_type": "execute_result"
    }
   ],
   "source": [
    "pc_she2plot.shape"
   ]
  },
  {
   "cell_type": "code",
   "execution_count": 555,
   "metadata": {},
   "outputs": [],
   "source": [
    "words0 = [ 'laywer', 'chief', 'developer',  'driver',  'physician',    \\\n",
    "          'secretary', 'nurse', 'cashier', 'cleaner',  'librarian' ]#, 'salesperson', 'secretary', 'laborer', 'hairdress']\n",
    "gendercoref_female_words = ['actress', 'waitress', 'princess']\n",
    "gendercoref_male_words = ['actor', 'waiter', 'prince']\n",
    "# words2plot = words0+words"
   ]
  },
  {
   "cell_type": "code",
   "execution_count": 566,
   "metadata": {},
   "outputs": [
    {
     "data": {
      "image/png": "[encoded data removed]",
      "text/plain": [
       "<Figure size 432x288 with 1 Axes>"
      ]
     },
     "metadata": {},
     "output_type": "display_data"
    }
   ],
   "source": [
    "pc1 =1 \n",
    "pc2 = 2\n",
    "pc3 = 3\n",
    "plt.close('all')\n",
    "ax = plt.subplot(111)\n",
    "ax.scatter(pc_he2plot[:,pc1 - 1], pc_he2plot[:,pc2 - 1], color='blue')\n",
    "ax.scatter(pc_she2plot[:,pc1 - 1], pc_she2plot[:,pc2 - 1], color='orange')\n",
    "plt.xticks(np.arange(-4, 4, 1), fontsize=12)\n",
    "plt.xlabel('Princle Component %d'%(pc1), fontsize=12)\n",
    "plt.ylabel('Princle Component %d'%(pc2), fontsize=12)\n",
    "for ind in range(len(words0)):\n",
    "    plt.annotate(words0[ind], \n",
    "                             (pc_he2plot[ind][pc1 - 1], pc_he2plot[ind][pc2 - 1] ), fontsize=12)\n",
    "    plt.annotate(words0[ind], \n",
    "                             (pc_she2plot[ind][pc1 - 1] , pc_she2plot[ind][pc2 - 1] ), fontsize=12)\n",
    "for ind in range(len(gendercoref_female_words)):\n",
    "    plt.annotate(gendercoref_female_words[ind], \n",
    "                (pc_she2plot[ind+len(words0)][pc1 - 1] , pc_she2plot[ind+len(words0)][pc2 - 1]), fontsize=12)\n",
    "for ind in range(len(gendercoref_male_words)):\n",
    "    plt.annotate(gendercoref_male_words[ind], \n",
    "                (pc_he2plot[ind+len(words0)][pc1 - 1] , pc_he2plot[ind+len(words0)][pc2 - 1]), fontsize=12)\n",
    "# ax.spines['right'].set_visible(False)\n",
    "# ax.spines['top'].set_visible(False)\n",
    "plt.savefig('pca1.pdf')"
   ]
  },
  {
   "cell_type": "code",
   "execution_count": null,
   "metadata": {},
   "outputs": [],
   "source": []
  },
  {
   "cell_type": "code",
   "execution_count": null,
   "metadata": {},
   "outputs": [],
   "source": []
  },
  {
   "cell_type": "code",
   "execution_count": null,
   "metadata": {},
   "outputs": [],
   "source": []
  },
  {
   "cell_type": "code",
   "execution_count": 300,
   "metadata": {},
   "outputs": [
    {
     "name": "stdout",
     "output_type": "stream",
     "text": [
      "mechanic\n",
      "0: The mechanic greets the receptionist because she was standing in front of the door .\n",
      "assistant\n",
      "1: The cook is always teaching the assistant new techniques so she will one day be equal in skill .\n",
      "teacher\n",
      "2: The farmer gave the teacher a bag of eggs because she helped many kids .\n",
      "chief\n",
      "3: The chief encouraged the writer because she wrote a good book .\n",
      "nurse\n",
      "4: The nurse was running from the laborer because she was very busy .\n",
      "lawyer\n",
      "5: The lawyer looked into illegal accusations against the cashier , but she may have been falsely accused .\n",
      "salesperson\n",
      "6: The salesperson sold some books to the librarian because she wanted to learn .\n",
      "secretary\n",
      "7: The developer corrected the secretary because she made a mistake .\n",
      "laborer\n",
      "8: The laborer eats more than the receptionist as she is on a diet .\n",
      "hairdresser\n",
      "9: The laborer raced against the hairdresser because she is slow .\n"
     ]
    },
    {
     "data": {
      "image/png": "[encoded data removed]",
      "text/plain": [
       "<Figure size 432x288 with 1 Axes>"
      ]
     },
     "metadata": {},
     "output_type": "display_data"
    }
   ],
   "source": [
    "#PC1 vs PC2/\n",
    "plot_pcs(pc_he, pc_she, 1, 2)"
   ]
  },
  {
   "cell_type": "code",
   "execution_count": null,
   "metadata": {},
   "outputs": [],
   "source": []
  },
  {
   "cell_type": "code",
   "execution_count": 72,
   "metadata": {},
   "outputs": [
    {
     "name": "stdout",
     "output_type": "stream",
     "text": [
      "0: The developer corrected the secretary because she made a mistake .\n",
      "1: The secretary went to a meeting with the construction worker because she was asked to .\n",
      "2: The farmer gave the teacher a bag of eggs because she helped many kids .\n",
      "3: The construction worker stared at the teacher because she entered the construction zone .\n",
      "4: The analyst argued with the designer , because she refused to redesign the work .\n",
      "5: The mechanic greets the receptionist because she was standing in front of the door .\n",
      "6: The lawyer yelled at the hairdresser because she did a bad job .\n",
      "7: The driver yelled at the tailor after she broke a window .\n",
      "8: The chief encouraged the writer because she wrote a good book .\n",
      "9: The mover missed the call from the assistant because she tried to schedule the moving .\n"
     ]
    },
    {
     "data": {
      "image/png": "[encoded data removed]",
      "text/plain": [
       "<Figure size 432x288 with 1 Axes>"
      ]
     },
     "metadata": {},
     "output_type": "display_data"
    }
   ],
   "source": [
    "plot_pcs(pc_he, pc_she, 1, 3)"
   ]
  },
  {
   "cell_type": "code",
   "execution_count": 558,
   "metadata": {},
   "outputs": [
    {
     "name": "stdout",
     "output_type": "stream",
     "text": [
      "0: The nurse examined the farmer for injuries because she was caring .\n",
      "1: The cook prepared a soup for the housekeeper because she helped to clean the room .\n",
      "2: The sheriff trusts the assistant because she was always honest .\n",
      "3: The secretary asked the mover what she could do to help .\n",
      "4: The construction worker stared at the teacher because she entered the construction zone .\n",
      "5: The cleaner hates the developer because she spent a lot of time cleaning the room .\n",
      "6: The manager told the clerk to report to work early because she is lazy .\n",
      "7: The CEO helped the nurse because she needed help .\n",
      "8: The driver never drove the librarian anywhere because she wore silly hats .\n"
     ]
    },
    {
     "data": {
      "image/png": "[encoded data removed]",
      "text/plain": [
       "<matplotlib.figure.Figure at 0x7fbe74219748>"
      ]
     },
     "metadata": {},
     "output_type": "display_data"
    }
   ],
   "source": [
    "plot_pcs(pc_he, pc_she, 2, 3)"
   ]
  },
  {
   "cell_type": "code",
   "execution_count": null,
   "metadata": {},
   "outputs": [],
   "source": []
  },
  {
   "cell_type": "code",
   "execution_count": 559,
   "metadata": {},
   "outputs": [],
   "source": [
    "from sklearn.manifold import TSNE"
   ]
  },
  {
   "cell_type": "code",
   "execution_count": 560,
   "metadata": {},
   "outputs": [],
   "source": [
    "tsne = TSNE(n_components=2, verbose=1, perplexity=40, n_iter=300)"
   ]
  },
  {
   "cell_type": "code",
   "execution_count": 561,
   "metadata": {},
   "outputs": [
    {
     "data": {
      "text/plain": [
       "(3, 1024, 3)"
      ]
     },
     "execution_count": 561,
     "metadata": {},
     "output_type": "execute_result"
    }
   ],
   "source": [
    "tmp = he_elmos[:3]\n",
    "tmp.shape"
   ]
  },
  {
   "cell_type": "code",
   "execution_count": 562,
   "metadata": {},
   "outputs": [
    {
     "data": {
      "text/plain": [
       "(3, 1024)"
      ]
     },
     "execution_count": 562,
     "metadata": {},
     "output_type": "execute_result"
    }
   ],
   "source": [
    "tmp.sum(axis = 2).shape"
   ]
  },
  {
   "cell_type": "code",
   "execution_count": 563,
   "metadata": {},
   "outputs": [
    {
     "name": "stdout",
     "output_type": "stream",
     "text": [
      "[t-SNE] Computing 8 nearest neighbors...\n",
      "[t-SNE] Indexed 9 samples in 0.000s...\n",
      "[t-SNE] Computed neighbors for 9 samples in 0.023s...\n",
      "[t-SNE] Computed conditional probabilities for sample 9 / 9\n",
      "[t-SNE] Mean sigma: 1125899906842624.000000\n",
      "[t-SNE] KL divergence after 250 iterations with early exaggeration: 36.722172\n",
      "[t-SNE] Error after 300 iterations: 0.400972\n",
      "[t-SNE] Computing 8 nearest neighbors...\n",
      "[t-SNE] Indexed 9 samples in 0.000s...\n",
      "[t-SNE] Computed neighbors for 9 samples in 0.000s...\n",
      "[t-SNE] Computed conditional probabilities for sample 9 / 9\n",
      "[t-SNE] Mean sigma: 1125899906842624.000000\n",
      "[t-SNE] KL divergence after 250 iterations with early exaggeration: 53.902241\n",
      "[t-SNE] Error after 300 iterations: 0.304615\n",
      "[t-SNE] Computing 17 nearest neighbors...\n",
      "[t-SNE] Indexed 18 samples in 0.000s...\n",
      "[t-SNE] Computed neighbors for 18 samples in 0.001s...\n",
      "[t-SNE] Computed conditional probabilities for sample 18 / 18\n",
      "[t-SNE] Mean sigma: 1125899906842624.000000\n",
      "[t-SNE] KL divergence after 250 iterations with early exaggeration: 60.061771\n",
      "[t-SNE] Error after 300 iterations: 0.534690\n"
     ]
    }
   ],
   "source": [
    "he_fla = he_elmos.reshape(-1, 3072)\n",
    "she_fla = she_elmos.reshape(-1, 3072)\n",
    "she_x = [she_fla[x] for x in rands]\n",
    "he_x = [he_fla[x] for x in rands]\n",
    "x2d = tsne.fit_transform(he_x)\n",
    "f = tsne.fit_transform(she_x)\n",
    "tmp = tsne.fit_transform(he_x + she_x)"
   ]
  },
  {
   "cell_type": "code",
   "execution_count": 564,
   "metadata": {},
   "outputs": [
    {
     "data": {
      "text/plain": [
       "(9, 2)"
      ]
     },
     "execution_count": 564,
     "metadata": {},
     "output_type": "execute_result"
    }
   ],
   "source": [
    "x2d.shape"
   ]
  },
  {
   "cell_type": "code",
   "execution_count": 565,
   "metadata": {},
   "outputs": [
    {
     "name": "stdout",
     "output_type": "stream",
     "text": [
      "0: The nurse examined the farmer for injuries because she was caring .\n",
      "1: The cook prepared a soup for the housekeeper because she helped to clean the room .\n",
      "2: The sheriff trusts the assistant because she was always honest .\n",
      "3: The secretary asked the mover what she could do to help .\n",
      "4: The construction worker stared at the teacher because she entered the construction zone .\n",
      "5: The cleaner hates the developer because she spent a lot of time cleaning the room .\n",
      "6: The manager told the clerk to report to work early because she is lazy .\n",
      "7: The CEO helped the nurse because she needed help .\n",
      "8: The driver never drove the librarian anywhere because she wore silly hats .\n"
     ]
    },
    {
     "data": {
      "image/png": "[encoded data removed]",
      "text/plain": [
       "<matplotlib.figure.Figure at 0x7fbe75c3c2b0>"
      ]
     },
     "metadata": {},
     "output_type": "display_data"
    }
   ],
   "source": [
    "plt.close('all')\n",
    "# f = x2d[len(he_x):]\n",
    "plt.scatter(x2d[:len(he_x)][:,0], x2d[:len(he_x)][:,1])\n",
    "plt.scatter(f[:][:,0], f[:][:,1])\n",
    "for ind in range(len(rands)):\n",
    "        plt.annotate(str(ind) + ': ' + he_res[rands[ind]][0], \n",
    "                     (x2d[ind][0], x2d[ind][1]))\n",
    "        plt.annotate(str(ind) + ': ' + she_res[rands[ind]][0], \n",
    "                     (f[ind][0], f[ind][1]))\n",
    "        print(str(ind) + ': ' + she_res[rands[ind]][1])"
   ]
  },
  {
   "cell_type": "code",
   "execution_count": 566,
   "metadata": {},
   "outputs": [
    {
     "name": "stdout",
     "output_type": "stream",
     "text": [
      "0: The nurse examined the farmer for injuries because she was caring .\n",
      "1: The cook prepared a soup for the housekeeper because she helped to clean the room .\n",
      "2: The sheriff trusts the assistant because she was always honest .\n",
      "3: The secretary asked the mover what she could do to help .\n",
      "4: The construction worker stared at the teacher because she entered the construction zone .\n",
      "5: The cleaner hates the developer because she spent a lot of time cleaning the room .\n",
      "6: The manager told the clerk to report to work early because she is lazy .\n",
      "7: The CEO helped the nurse because she needed help .\n",
      "8: The driver never drove the librarian anywhere because she wore silly hats .\n"
     ]
    },
    {
     "data": {
      "image/png": "[encoded data removed]",
      "text/plain": [
       "<matplotlib.figure.Figure at 0x7fbe76e7a320>"
      ]
     },
     "metadata": {},
     "output_type": "display_data"
    }
   ],
   "source": [
    "plt.close('all')\n",
    "f = tmp[len(he_x):]\n",
    "plt.scatter(tmp[:len(he_x)][:,0], tmp[:len(he_x)][:,1])\n",
    "plt.scatter(tmp[len(he_x):][:,0], tmp[len(he_x):][:,1])\n",
    "for ind in range(len(rands)):\n",
    "        plt.annotate(str(ind) + ': ' + he_res[rands[ind]][0], \n",
    "                     (tmp[ind][0], tmp[ind][1]))\n",
    "        plt.annotate(str(ind) + ': ' + she_res[rands[ind]][0], \n",
    "                     (f[ind][0], f[ind][1]))\n",
    "        print(str(ind) + ': ' + she_res[rands[ind]][1])"
   ]
  },
  {
   "cell_type": "code",
   "execution_count": null,
   "metadata": {},
   "outputs": [],
   "source": []
  },
  {
   "cell_type": "markdown",
   "metadata": {},
   "source": [
    "### Projecting out for all  non-gender definitional words"
   ]
  },
  {
   "cell_type": "code",
   "execution_count": 57,
   "metadata": {},
   "outputs": [],
   "source": [
    "dev = 'data/anonymized/dev.english.jsonlines'\n",
    "dev_all_genders = utils.get_all_genders(dev)\n",
    "train = 'data/anonymized/train.english.jsonlines'\n",
    "train_all_genders = utils.get_all_genders(train)\n",
    "test = 'data/anonymized/test.english.jsonlines'\n",
    "test_all_genders = utils.get_all_genders(test)"
   ]
  },
  {
   "cell_type": "code",
   "execution_count": 58,
   "metadata": {},
   "outputs": [],
   "source": [
    "train_file = 'elmo_cache_train.hdf5'\n",
    "train_cache = h5py.File(train_file, 'r')\n",
    "dev_file = 'elmo_cache_dev.hdf5'\n",
    "dev_cache = h5py.File(dev_file, 'r')\n",
    "test_file = 'elmo_cache_test.hdf5'\n",
    "test_cache = h5py.File(test_file, 'r')"
   ]
  },
  {
   "cell_type": "code",
   "execution_count": null,
   "metadata": {},
   "outputs": [],
   "source": [
    "# train_elmo = np.array(utils.get_gender_elmo(train_cache, train_all_genders))\n",
    "dev_elmo = np.array(utils.get_gender_elmo(dev_cache, dev_all_genders))\n",
    "test_elmo = np.array(utils.get_gender_elmo(test_cache, test_all_genders))\n",
    "train_elmo = np.load('train_ori_ELMos.npy')"
   ]
  },
  {
   "cell_type": "code",
   "execution_count": 61,
   "metadata": {},
   "outputs": [],
   "source": [
    "np.save('dev_ori_ELMos', dev_elmo)\n",
    "np.save('test_ori_ELMos', test_elmo)"
   ]
  },
  {
   "cell_type": "code",
   "execution_count": 60,
   "metadata": {},
   "outputs": [
    {
     "data": {
      "text/plain": [
       "334206"
      ]
     },
     "execution_count": 60,
     "metadata": {},
     "output_type": "execute_result"
    }
   ],
   "source": [
    "len(train_elmo)"
   ]
  },
  {
   "cell_type": "code",
   "execution_count": 521,
   "metadata": {},
   "outputs": [],
   "source": [
    "##same as the get_gender_elmo\n",
    "def get_ori_ELMo(train_all_genders, train_ori):\n",
    "    count = 0\n",
    "    ori = []\n",
    "    for key in tqdm(train_all_genders):\n",
    "        if len(train_all_genders[key]) == 0:  #no gender definition word in the document\n",
    "            continue\n",
    "        elmo_key = key.replace('/', ':')\n",
    "        for gid in train_ori[elmo_key]:\n",
    "            if int(gid) not in train_all_genders[key]:  #no gender definiton word in the sentence\n",
    "                continue\n",
    "\n",
    "            for wid in range(train_ori[elmo_key][str(gid)].shape[0]):\n",
    "                if wid in train_all_genders[key][int(gid)]:  #this is a gender definition word\n",
    "                    continue\n",
    "                else:\n",
    "                    ori.append(train_ori[elmo_key][str(gid)][wid])\n",
    "                    count = len(ori)\n",
    "    return np.array(ori)"
   ]
  },
  {
   "cell_type": "code",
   "execution_count": 62,
   "metadata": {},
   "outputs": [],
   "source": [
    "def project_out(elmos, pcs, n):\n",
    "    res = []\n",
    "    for ind in range(len(elmos)):\n",
    "        tmp = elmos[ind].reshape(-1, 3072)\n",
    "        for i in range(n):\n",
    "            tmp -= np.multiply((tmp.dot(pcs[i]) / (pcs[i].dot(pcs[i]))).reshape(-1,1), \n",
    "                                       pcs[i].reshape(1, -1))\n",
    "        res.append(tmp)\n",
    "    return np.array(res)"
   ]
  },
  {
   "cell_type": "code",
   "execution_count": 63,
   "metadata": {},
   "outputs": [],
   "source": [
    "train_after_pca = project_out(train_elmo, pca.components_, 2)"
   ]
  },
  {
   "cell_type": "code",
   "execution_count": 64,
   "metadata": {},
   "outputs": [],
   "source": [
    "dev_after_pca = project_out(dev_elmo, pca.components_, 2)\n",
    "test_after_pca = project_out(test_elmo, pca.components_, 2)"
   ]
  },
  {
   "cell_type": "code",
   "execution_count": 80,
   "metadata": {},
   "outputs": [],
   "source": [
    "def save_ELMo(train_all_genders, train_ori, fn, neutralized):\n",
    "    with h5py.File(\"elmo_cache_pca_%s_part.hdf5\"%(fn), \"w\") as out_file: \n",
    "        count = 0\n",
    "        for key in train_all_genders.keys():\n",
    "            elmo_key = key.replace('/', ':')\n",
    "            group = out_file.create_group(elmo_key)\n",
    "            if len(train_all_genders[key]) == 0:  #no gender definition word in the document\n",
    "                for gid in train_ori[elmo_key]:\n",
    "                    group[gid] = train_ori[elmo_key][gid][...]\n",
    "                continue\n",
    "            for gid in train_ori[elmo_key]:\n",
    "                group[gid] = train_ori[elmo_key][gid][...]\n",
    "                if int(gid) not in train_all_genders[key]:  #no gender definiton word in the sentence; no need to update\n",
    "                    continue\n",
    "\n",
    "                for wid in range(train_ori[elmo_key][str(gid)].shape[0]):\n",
    "                    if wid in train_all_genders[key][int(gid)]:  #this is a gender definition word; do not need to update\n",
    "                        continue\n",
    "                    else:\n",
    "                        group[gid][wid] = neutralized[count].reshape(1,-1,3)\n",
    "                        count += 1\n"
   ]
  },
  {
   "cell_type": "code",
   "execution_count": 585,
   "metadata": {},
   "outputs": [],
   "source": [
    "save_ELMo(train_all_genders, train_cache, 'train', train_after_pca)"
   ]
  },
  {
   "cell_type": "code",
   "execution_count": 586,
   "metadata": {},
   "outputs": [],
   "source": [
    "save_ELMo(dev_all_genders, dev_cache, 'dev', dev_after_pca)\n",
    "save_ELMo(test_all_genders, test_cache, 'test', test_after_pca)"
   ]
  },
  {
   "cell_type": "code",
   "execution_count": 13,
   "metadata": {},
   "outputs": [],
   "source": [
    "#for the swapped data:\n",
    "train_file = 'elmo_caches/elmo_cache_train_swap.hdf5'\n",
    "train_cache = h5py.File(train_file, 'r')\n",
    "dev_file = 'elmo_caches/elmo_cache_dev_swap.hdf5'\n",
    "dev_cache = h5py.File(dev_file, 'r')\n",
    "test_file = 'elmo_caches/elmo_cache_test_swap.hdf5'\n",
    "test_cache = h5py.File(test_file, 'r')"
   ]
  },
  {
   "cell_type": "code",
   "execution_count": 14,
   "metadata": {},
   "outputs": [
    {
     "data": {
      "text/plain": [
       "'bc:cctv:00:cctv_0001_0'"
      ]
     },
     "execution_count": 14,
     "metadata": {},
     "output_type": "execute_result"
    }
   ],
   "source": [
    "list(train_cache.keys())[0]"
   ]
  },
  {
   "cell_type": "code",
   "execution_count": null,
   "metadata": {},
   "outputs": [],
   "source": [
    "train_elmo = np.array(utils.get_gender_elmo(train_cache, train_all_genders))\n",
    "dev_elmo = np.array(utils.get_gender_elmo(dev_cache, dev_all_genders))\n",
    "test_elmo = np.array(utils.get_gender_elmo(test_cache, test_all_genders))"
   ]
  },
  {
   "cell_type": "code",
   "execution_count": 590,
   "metadata": {},
   "outputs": [],
   "source": [
    "train_after_pca = project_out(train_elmo, pca.components_, 2)\n",
    "dev_after_pca = project_out(dev_elmo, pca.components_, 2)\n",
    "test_after_pca = project_out(test_elmo, pca.components_, 2)"
   ]
  },
  {
   "cell_type": "code",
   "execution_count": 591,
   "metadata": {},
   "outputs": [],
   "source": [
    "save_ELMo(train_all_genders, train_cache, 'train_swap', train_after_pca)"
   ]
  },
  {
   "cell_type": "code",
   "execution_count": 592,
   "metadata": {},
   "outputs": [],
   "source": [
    "save_ELMo(dev_all_genders, dev_cache, 'dev_swap', dev_after_pca)\n",
    "save_ELMo(test_all_genders, test_cache, 'test_swap', test_after_pca)"
   ]
  },
  {
   "cell_type": "code",
   "execution_count": null,
   "metadata": {},
   "outputs": [],
   "source": []
  },
  {
   "cell_type": "code",
   "execution_count": 15,
   "metadata": {},
   "outputs": [],
   "source": [
    "#combine\n",
    "def combine_ori_swap(ori, swap, fn):\n",
    "    with h5py.File(\"elmo_cache_pca_%s_part_union.hdf5\"%fn, 'w') as out:\n",
    "        for key in tqdm(ori):\n",
    "            group = out.create_group(key)\n",
    "            for gid in ori[key]:\n",
    "                group[gid] = ori[key][gid][...]\n",
    "        for key in tqdm(swap):\n",
    "            akey = '_'.join(key.split('_')[:-1])+'_s_'+key.split('_')[-1]\n",
    "            group = out.create_group(akey)\n",
    "            for gid in swap[key]:\n",
    "                group[gid] = swap[key][gid][...]"
   ]
  },
  {
   "cell_type": "code",
   "execution_count": 6,
   "metadata": {},
   "outputs": [],
   "source": [
    "train_pca_ori = h5py.File('elmo_caches/elmo_cache_pca_train_part.hdf5', 'r')\n",
    "train_pca_swap = h5py.File('elmo_caches/elmo_cache_pca_train_swap_part.hdf5', 'r')\n",
    "dev_pca_ori = h5py.File('elmo_caches/elmo_cache_pca_dev_part.hdf5', 'r')\n",
    "dev_pca_swap = h5py.File('elmo_caches/elmo_cache_pca_dev_swap_part.hdf5', 'r')"
   ]
  },
  {
   "cell_type": "code",
   "execution_count": 10,
   "metadata": {},
   "outputs": [
    {
     "data": {
      "text/plain": [
       "'bc:cctv:00:cctv_0001_0'"
      ]
     },
     "execution_count": 10,
     "metadata": {},
     "output_type": "execute_result"
    }
   ],
   "source": [
    "list(train_pca_ori.keys())[0]"
   ]
  },
  {
   "cell_type": "code",
   "execution_count": 11,
   "metadata": {},
   "outputs": [
    {
     "data": {
      "text/plain": [
       "'bc:cctv:00:cctv_0001_0'"
      ]
     },
     "execution_count": 11,
     "metadata": {},
     "output_type": "execute_result"
    }
   ],
   "source": [
    "list(train_pca_swap.keys())[0]"
   ]
  },
  {
   "cell_type": "code",
   "execution_count": 8,
   "metadata": {},
   "outputs": [
    {
     "name": "stderr",
     "output_type": "stream",
     "text": [
      "100%|██████████| 2802/2802 [45:25<00:00,  1.03it/s]\n",
      "100%|██████████| 343/343 [06:00<00:00,  1.05s/it]\n",
      "100%|██████████| 2802/2802 [45:55<00:00,  1.02it/s]\n",
      "100%|██████████| 343/343 [05:35<00:00,  1.02it/s]\n"
     ]
    }
   ],
   "source": [
    "combine_ori_swap(train_pca_ori, dev_pca_ori, 'ori')\n",
    "combine_ori_swap(train_pca_swap, dev_pca_swap, 'swap')"
   ]
  },
  {
   "cell_type": "code",
   "execution_count": 16,
   "metadata": {},
   "outputs": [
    {
     "name": "stderr",
     "output_type": "stream",
     "text": [
      "100%|██████████| 3145/3145 [53:13<00:00,  1.02s/it]\n",
      "100%|██████████| 3145/3145 [55:00<00:00,  1.05s/it]\n"
     ]
    }
   ],
   "source": [
    "ori_pca = h5py.File('elmo_cache_pca_ori_part_union.hdf5', 'r')\n",
    "swap_pca = h5py.File('elmo_cache_pca_swap_part_union.hdf5', 'r')\n",
    "combine_ori_swap(ori_pca, swap_pca, 'all')"
   ]
  },
  {
   "cell_type": "markdown",
   "metadata": {},
   "source": [
    "### Average"
   ]
  },
  {
   "cell_type": "code",
   "execution_count": 65,
   "metadata": {},
   "outputs": [],
   "source": [
    "def get_avg_elmo5(fn, pro, anti, all_genders):\n",
    "    with h5py.File(\"elmo_cache_pca_%s_avg.hdf5\"%(fn), \"w\") as out_file:\n",
    "        for key in tqdm(pro.keys()):\n",
    "            group = out_file.create_group(key)\n",
    "            fkey = key.replace(':', '/')\n",
    "            akey = key\n",
    "            if len(all_genders[fkey]) > 0:\n",
    "                for gid in pro[key]:\n",
    "                    tmp = []\n",
    "#                     print(key, akey, fkey)\n",
    "                    if int(gid) in all_genders[fkey].keys(): #This sentence including a gender defintion word\n",
    "                        for wid in range(pro[key][gid].shape[0]):\n",
    "                            if wid in all_genders[fkey][int(gid)]: #this word is a gender word; keep the original ELMo\n",
    "                                tmp.append(pro[key][gid][wid])\n",
    "                            else: #otherwise, average the ELMo\n",
    "                                tmp.append((pro[key][gid][wid] + anti[akey][gid][wid]) / 2)\n",
    "                        group[gid] = np.array(tmp)\n",
    "                    else: #This sentence does not include a gender word\n",
    "                        group[gid] = (pro[key][gid][...] + anti[akey][gid][...]) / 2\n",
    "            else:\n",
    "                for gid in pro[key]:\n",
    "                    group[gid] = (pro[key][gid][...] + anti[akey][gid][...]) / 2"
   ]
  },
  {
   "cell_type": "code",
   "execution_count": 66,
   "metadata": {},
   "outputs": [],
   "source": [
    "dev_file = 'elmo_cache_pca_dev_part.hdf5'\n",
    "dev = h5py.File(dev_file, 'r')\n",
    "dev_swap_file = 'elmo_cache_pca_dev_swap_part.hdf5'\n",
    "dev_swap = h5py.File(dev_swap_file, 'r')"
   ]
  },
  {
   "cell_type": "code",
   "execution_count": 67,
   "metadata": {},
   "outputs": [],
   "source": [
    "train_file = 'elmo_cache_pca_train_part.hdf5'\n",
    "train = h5py.File(train_file, 'r')\n",
    "train_swap_file = 'elmo_cache_pca_train_swap_part.hdf5'\n",
    "train_swap = h5py.File(train_swap_file, 'r')\n",
    "test_file = 'elmo_cache_pca_test_part.hdf5'\n",
    "test = h5py.File(test_file, 'r')\n",
    "test_swap_file = 'elmo_cache_pca_test_swap_part.hdf5'\n",
    "test_swap = h5py.File(test_swap_file, 'r')"
   ]
  },
  {
   "cell_type": "code",
   "execution_count": null,
   "metadata": {},
   "outputs": [],
   "source": [
    "get_avg_elmo5('test_part', test, test_swap, test_all_genders)\n",
    "get_avg_elmo5('train_part', train, train_swap, train_all_genders)\n",
    "get_avg_elmo5('dev_part', dev, dev_swap, dev_all_genders)"
   ]
  },
  {
   "cell_type": "code",
   "execution_count": null,
   "metadata": {},
   "outputs": [],
   "source": []
  },
  {
   "cell_type": "code",
   "execution_count": 69,
   "metadata": {},
   "outputs": [],
   "source": [
    "#combine\n",
    "def combine(train, dev, fn):\n",
    "    with h5py.File(\"elmo_cache_%s.hdf5\"%(fn), 'w') as out:\n",
    "        for key in tqdm(train):\n",
    "            group = out.create_group(key)\n",
    "            for gid in train[key]:\n",
    "                group[gid] = train[key][gid][...]\n",
    "        for key in tqdm(dev):\n",
    "            group = out.create_group(key)\n",
    "            for gid in dev[key]:\n",
    "                group[gid] = dev[key][gid][...]"
   ]
  },
  {
   "cell_type": "code",
   "execution_count": null,
   "metadata": {},
   "outputs": [],
   "source": [
    "combine(train, dev, \"pca_part\")"
   ]
  },
  {
   "cell_type": "code",
   "execution_count": 70,
   "metadata": {},
   "outputs": [],
   "source": [
    "train_avg = h5py.File('elmo_cache_pca_train_part_avg.hdf5')\n",
    "dev_avg = h5py.File('elmo_cache_pca_dev_part_avg.hdf5')"
   ]
  },
  {
   "cell_type": "code",
   "execution_count": null,
   "metadata": {},
   "outputs": [],
   "source": [
    "combine(train_avg, dev_avg, \"pca_part_avg\")"
   ]
  },
  {
   "cell_type": "code",
   "execution_count": null,
   "metadata": {},
   "outputs": [],
   "source": []
  },
  {
   "cell_type": "markdown",
   "metadata": {},
   "source": [
    "### For winobias"
   ]
  },
  {
   "cell_type": "code",
   "execution_count": 74,
   "metadata": {},
   "outputs": [],
   "source": [
    "dev_T1_genders = utils.get_all_genders('data/corefbias/dev_type1_pro_stereotype.english.jsonlines')\n",
    "dev_T2_genders = utils.get_all_genders('data/corefbias/dev_type2_anti_stereotype.english.jsonlines')\n",
    "test_T1_genders = utils.get_all_genders('data/corefbias/test_type1_anti_stereotype.english.jsonlines')\n",
    "test_T2_genders = utils.get_all_genders('data/corefbias/test_type2_anti_stereotype.english.jsonlines')"
   ]
  },
  {
   "cell_type": "code",
   "execution_count": 75,
   "metadata": {},
   "outputs": [],
   "source": [
    "file = 'elmo_cache_dev_T1_anti.hdf5'\n",
    "dev_T1_anti = h5py.File(file, 'r')\n",
    "file = 'elmo_cache_dev_T1_pro.hdf5'\n",
    "dev_T1_pro = h5py.File(file, 'r')\n",
    "\n",
    "file = 'elmo_cache_dev_T2_anti.hdf5'\n",
    "dev_T2_anti = h5py.File(file, 'r')\n",
    "file = 'elmo_cache_dev_T2_pro.hdf5'\n",
    "dev_T2_pro = h5py.File(file, 'r')\n",
    "\n",
    "file = 'elmo_cache_test_T1_anti.hdf5'\n",
    "test_T1_anti = h5py.File(file, 'r')\n",
    "file = 'elmo_cache_test_T1_pro.hdf5'\n",
    "test_T1_pro = h5py.File(file, 'r')\n",
    "\n",
    "file = 'elmo_cache_test_T2_anti.hdf5'\n",
    "test_T2_anti = h5py.File(file, 'r')\n",
    "file = 'elmo_cache_test_T2_pro.hdf5'\n",
    "test_T2_pro = h5py.File(file, 'r')"
   ]
  },
  {
   "cell_type": "code",
   "execution_count": null,
   "metadata": {},
   "outputs": [],
   "source": [
    "dev_T1_pro_after_pca = project_out(np.array(utils.get_gender_elmo(dev_T1_pro, dev_T1_genders)), pca.components_, 2)\n",
    "dev_T1_anti_after_pca = project_out(np.array(utils.get_gender_elmo(dev_T1_anti, dev_T1_genders)), pca.components_, 2)\n",
    "test_T1_pro_after_pca = project_out(np.array(utils.get_gender_elmo(test_T1_pro, test_T1_genders)), pca.components_, 2)\n",
    "test_T1_anti_after_pca = project_out(np.array(utils.get_gender_elmo(test_T1_anti, test_T1_genders)), pca.components_, 2)\n",
    "\n",
    "dev_T2_pro_after_pca = project_out(np.array(utils.get_gender_elmo(dev_T2_pro, dev_T2_genders)), pca.components_, 2)\n",
    "dev_T2_anti_after_pca = project_out(np.array(utils.get_gender_elmo(dev_T2_anti, dev_T2_genders)), pca.components_, 2)\n",
    "test_T2_pro_after_pca = project_out(np.array(utils.get_gender_elmo(test_T2_pro, test_T2_genders)), pca.components_, 2)\n",
    "test_T2_anti_after_pca = project_out(np.array(utils.get_gender_elmo(test_T2_anti, test_T2_genders)), pca.components_, 2)"
   ]
  },
  {
   "cell_type": "code",
   "execution_count": 81,
   "metadata": {},
   "outputs": [],
   "source": [
    "save_ELMo(dev_T1_genders, dev_T1_pro, 'dev_T1_pro', dev_T1_pro_after_pca)\n",
    "save_ELMo(dev_T1_genders, dev_T1_anti, 'dev_T1_anti', dev_T1_anti_after_pca)\n",
    "save_ELMo(dev_T2_genders, dev_T2_pro, 'dev_T2_pro', dev_T2_pro_after_pca)\n",
    "save_ELMo(dev_T2_genders, dev_T2_anti, 'dev_T2_anti', dev_T2_anti_after_pca)\n",
    "save_ELMo(test_T1_genders, test_T1_pro, 'test_T1_pro', test_T1_pro_after_pca)\n",
    "save_ELMo(test_T1_genders, test_T1_anti, 'test_T1_anti', test_T1_anti_after_pca)\n",
    "save_ELMo(test_T2_genders, test_T2_pro, 'test_T2_pro', test_T2_pro_after_pca)\n",
    "save_ELMo(test_T2_genders, test_T2_anti, 'test_T2_anti', test_T2_anti_after_pca)"
   ]
  },
  {
   "cell_type": "code",
   "execution_count": null,
   "metadata": {},
   "outputs": [],
   "source": []
  },
  {
   "cell_type": "code",
   "execution_count": null,
   "metadata": {},
   "outputs": [],
   "source": [
    "dev_T1_pro_file = 'elmo_cache_pca_dev_T1_pro_part.hdf5'\n",
    "dev = h5py.File(dev_T1_pro_file, 'r')\n",
    "dev_swap_file = 'elmo_cache_pca_dev_T1_anti_part.hdf5'\n",
    "dev_swap = h5py.File(dev_swap_file, 'r')\n",
    "get_avg_elmo5('dev_T1_pro_part', dev, dev_swap, dev_T1_genders)\n",
    "get_avg_elmo5('dev_T1_anti_part', dev_swap, dev, dev_T1_genders)\n",
    "\n",
    "dev_T2_pro_file = 'elmo_cache_pca_dev_T2_pro_part.hdf5'\n",
    "dev = h5py.File(dev_T2_pro_file, 'r')\n",
    "dev_swap_file = 'elmo_cache_pca_dev_T2_anti_part.hdf5'\n",
    "dev_swap = h5py.File(dev_swap_file, 'r')\n",
    "get_avg_elmo5('dev_T2_pro_part', dev, dev_swap, dev_T2_genders)\n",
    "get_avg_elmo5('dev_T2_anti_part', dev_swap, dev, dev_T2_genders)"
   ]
  },
  {
   "cell_type": "code",
   "execution_count": null,
   "metadata": {},
   "outputs": [],
   "source": [
    "test_T1_pro_file = 'elmo_cache_pca_test_T1_pro_part.hdf5'\n",
    "test = h5py.File(test_T1_pro_file, 'r')\n",
    "test_swap_file = 'elmo_cache_pca_test_T1_anti_part.hdf5'\n",
    "test_swap = h5py.File(test_swap_file, 'r')\n",
    "get_avg_elmo5('test_T1_pro_part', test, test_swap, test_T1_genders)\n",
    "get_avg_elmo5('test_T1_anti_part', test_swap, test, test_T1_genders)\n",
    "\n",
    "test_T2_pro_file = 'elmo_cache_pca_test_T2_pro_part.hdf5'\n",
    "test = h5py.File(test_T2_pro_file, 'r')\n",
    "test_swap_file = 'elmo_cache_pca_test_T2_anti_part.hdf5'\n",
    "test_swap = h5py.File(test_swap_file, 'r')\n",
    "get_avg_elmo5('test_T2_pro_part', test, test_swap, test_T2_genders)\n",
    "get_avg_elmo5('test_T2_anti_part', test_swap, test, test_T2_genders)"
   ]
  },
  {
   "cell_type": "code",
   "execution_count": null,
   "metadata": {},
   "outputs": [],
   "source": []
  }
 ],
 "metadata": {
  "kernelspec": {
   "display_name": "Python 3",
   "language": "python",
   "name": "python3"
  },
  "language_info": {
   "codemirror_mode": {
    "name": "ipython",
    "version": 3
   },
   "file_extension": ".py",
   "mimetype": "text/x-python",
   "name": "python",
   "nbconvert_exporter": "python",
   "pygments_lexer": "ipython3",
   "version": "3.7.6"
  }
 },
 "nbformat": 4,
 "nbformat_minor": 4
}
